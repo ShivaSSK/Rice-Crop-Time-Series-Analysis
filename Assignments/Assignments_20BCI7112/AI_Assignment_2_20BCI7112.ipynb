{
  "nbformat": 4,
  "nbformat_minor": 0,
  "metadata": {
    "colab": {
      "provenance": []
    },
    "kernelspec": {
      "name": "python3",
      "display_name": "Python 3"
    },
    "language_info": {
      "name": "python"
    }
  },
  "cells": [
    {
      "cell_type": "code",
      "execution_count": 64,
      "metadata": {
        "id": "2-dpHIBKIGbC"
      },
      "outputs": [],
      "source": [
        "import pandas as pd\n",
        "import numpy as np\n",
        "from sklearn.preprocessing import LabelEncoder, StandardScaler\n",
        "from sklearn.model_selection import train_test_split"
      ]
    },
    {
      "cell_type": "code",
      "source": [
        "df = pd.read_csv('drug200.csv')"
      ],
      "metadata": {
        "id": "DODk8NK8IY5a"
      },
      "execution_count": 65,
      "outputs": []
    },
    {
      "cell_type": "code",
      "source": [
        "# Task 1 : Read the dataset and do data pre-processing"
      ],
      "metadata": {
        "id": "hO9x-62mIe-H"
      },
      "execution_count": 66,
      "outputs": []
    },
    {
      "cell_type": "code",
      "source": [
        "label_encoder = LabelEncoder()\n",
        "df['Sex'] = label_encoder.fit_transform(df['Sex'])\n",
        "df['BP'] = label_encoder.fit_transform(df['BP'])\n",
        "df['Cholesterol'] = label_encoder.fit_transform(df['Cholesterol'])\n",
        "df['Drug'] = label_encoder.fit_transform(df['Drug'])\n",
        "print(df.head())"
      ],
      "metadata": {
        "colab": {
          "base_uri": "https://localhost:8080/"
        },
        "id": "8uHDEKXmIn59",
        "outputId": "e401f076-33a5-4051-cae7-e2544650a11b"
      },
      "execution_count": 67,
      "outputs": [
        {
          "output_type": "stream",
          "name": "stdout",
          "text": [
            "   Age  Sex  BP  Cholesterol  Na_to_K  Drug\n",
            "0   23    0   0            0   25.355     0\n",
            "1   47    1   1            0   13.093     3\n",
            "2   47    1   1            0   10.114     3\n",
            "3   28    0   2            0    7.798     4\n",
            "4   61    0   1            0   18.043     0\n"
          ]
        }
      ]
    },
    {
      "cell_type": "code",
      "source": [
        "# Scale numerical variables\n",
        "\n",
        "scaler = StandardScaler()\n",
        "df[['Age', 'Na_to_K']] = scaler.fit_transform(df[['Age', 'Na_to_K']])"
      ],
      "metadata": {
        "id": "-NOQ0CFUIwM1"
      },
      "execution_count": 68,
      "outputs": []
    },
    {
      "cell_type": "code",
      "source": [
        "# Separate features and labels\n",
        "\n",
        "x = df[['Age', 'Sex', 'BP', 'Cholesterol', 'Na_to_K']]\n",
        "y = df['Drug']"
      ],
      "metadata": {
        "id": "Fzm15nodIz0Q"
      },
      "execution_count": 69,
      "outputs": []
    },
    {
      "cell_type": "code",
      "source": [
        "# Split the dataset into training and testing sets\n",
        "\n",
        "X_train, X_test, y_train, y_test = train_test_split(X, y, test_size=0.2, random_state=42)\n",
        "print(X_train.shape)\n",
        "print(y_test.shape)"
      ],
      "metadata": {
        "colab": {
          "base_uri": "https://localhost:8080/"
        },
        "id": "Cewz1u0TI3SS",
        "outputId": "15a5eb5f-9fe8-40fe-d156-63e308d68e6b"
      },
      "execution_count": 70,
      "outputs": [
        {
          "output_type": "stream",
          "name": "stdout",
          "text": [
            "(160, 5)\n",
            "(40,)\n"
          ]
        }
      ]
    },
    {
      "cell_type": "code",
      "source": [
        "# Task 2 : Build the ANN model with (input layer, min 3 hidden layers & output layer)"
      ],
      "metadata": {
        "id": "O8RSc1DKI7c4"
      },
      "execution_count": 71,
      "outputs": []
    },
    {
      "cell_type": "code",
      "source": [
        "import tensorflow as tf\n",
        "from tensorflow.keras.models import Sequential\n",
        "from tensorflow.keras.layers import Dense"
      ],
      "metadata": {
        "id": "cIsHyn8NJGKY"
      },
      "execution_count": 72,
      "outputs": []
    },
    {
      "cell_type": "code",
      "source": [
        "# Define the model architecture\n",
        "\n",
        "model = Sequential()\n",
        "model.add(Dense(64, activation='relu', input_shape=(5,)))\n",
        "model.add(Dense(128, activation='relu'))\n",
        "model.add(Dense(64, activation='relu'))\n",
        "model.add(Dense(32, activation='relu'))\n",
        "model.add(Dense(5, activation='softmax'))"
      ],
      "metadata": {
        "id": "mwL4i3TXJKs0"
      },
      "execution_count": 73,
      "outputs": []
    },
    {
      "cell_type": "code",
      "source": [
        "x = df.iloc[:,0:5]\n",
        "y = df.iloc[:,5:]\n",
        "print(x)\n",
        "print(y)"
      ],
      "metadata": {
        "colab": {
          "base_uri": "https://localhost:8080/"
        },
        "id": "7mEzI95XQHMZ",
        "outputId": "7bcfc988-bf80-4405-9507-4c5e76faf521"
      },
      "execution_count": 74,
      "outputs": [
        {
          "output_type": "stream",
          "name": "stdout",
          "text": [
            "          Age  Sex  BP  Cholesterol   Na_to_K\n",
            "0   -1.291591    0   0            0  1.286522\n",
            "1    0.162699    1   1            0 -0.415145\n",
            "2    0.162699    1   1            0 -0.828558\n",
            "3   -0.988614    0   2            0 -1.149963\n",
            "4    1.011034    0   1            0  0.271794\n",
            "..        ...  ...  ..          ...       ...\n",
            "195  0.708057    0   1            0 -0.626917\n",
            "196 -1.715759    1   1            0 -0.565995\n",
            "197  0.465676    1   2            0 -0.859089\n",
            "198 -1.291591    1   2            1 -0.286500\n",
            "199 -0.261469    0   1            1 -0.657170\n",
            "\n",
            "[200 rows x 5 columns]\n",
            "     Drug\n",
            "0       0\n",
            "1       3\n",
            "2       3\n",
            "3       4\n",
            "4       0\n",
            "..    ...\n",
            "195     3\n",
            "196     3\n",
            "197     4\n",
            "198     4\n",
            "199     4\n",
            "\n",
            "[200 rows x 1 columns]\n"
          ]
        }
      ]
    },
    {
      "cell_type": "code",
      "source": [
        "# Compile the model\n",
        "\n",
        "model.compile(loss='sparse_categorical_crossentropy', optimizer='adam', metrics=['accuracy'])\n",
        "\n",
        "y_train_encoded = label_encoder.fit_transform(y_train)\n",
        "y_test_encoded = label_encoder.transform(y_test)\n",
        "model.fit(X_train, y_train_encoded, epochs=20, batch_size=20, validation_data=(X_test, y_test_encoded))"
      ],
      "metadata": {
        "id": "nDlJvYDzJdpI",
        "colab": {
          "base_uri": "https://localhost:8080/"
        },
        "outputId": "b559f14c-e5d1-411f-f50e-ee796ffaf7fa"
      },
      "execution_count": 75,
      "outputs": [
        {
          "output_type": "stream",
          "name": "stdout",
          "text": [
            "Epoch 1/20\n",
            "8/8 [==============================] - 2s 38ms/step - loss: 1.4517 - accuracy: 0.5813 - val_loss: 1.3748 - val_accuracy: 0.4000\n",
            "Epoch 2/20\n",
            "8/8 [==============================] - 0s 6ms/step - loss: 1.2047 - accuracy: 0.5375 - val_loss: 1.1855 - val_accuracy: 0.4250\n",
            "Epoch 3/20\n",
            "8/8 [==============================] - 0s 9ms/step - loss: 1.0034 - accuracy: 0.6187 - val_loss: 1.0329 - val_accuracy: 0.5750\n",
            "Epoch 4/20\n",
            "8/8 [==============================] - 0s 9ms/step - loss: 0.8368 - accuracy: 0.7188 - val_loss: 0.8926 - val_accuracy: 0.6250\n",
            "Epoch 5/20\n",
            "8/8 [==============================] - 0s 6ms/step - loss: 0.7157 - accuracy: 0.7188 - val_loss: 0.8098 - val_accuracy: 0.6250\n",
            "Epoch 6/20\n",
            "8/8 [==============================] - 0s 8ms/step - loss: 0.6184 - accuracy: 0.7500 - val_loss: 0.7295 - val_accuracy: 0.7250\n",
            "Epoch 7/20\n",
            "8/8 [==============================] - 0s 6ms/step - loss: 0.5321 - accuracy: 0.8125 - val_loss: 0.6841 - val_accuracy: 0.7500\n",
            "Epoch 8/20\n",
            "8/8 [==============================] - 0s 10ms/step - loss: 0.4566 - accuracy: 0.8687 - val_loss: 0.6015 - val_accuracy: 0.8500\n",
            "Epoch 9/20\n",
            "8/8 [==============================] - 0s 7ms/step - loss: 0.3843 - accuracy: 0.9062 - val_loss: 0.5173 - val_accuracy: 0.8750\n",
            "Epoch 10/20\n",
            "8/8 [==============================] - 0s 8ms/step - loss: 0.3252 - accuracy: 0.9125 - val_loss: 0.4404 - val_accuracy: 0.8750\n",
            "Epoch 11/20\n",
            "8/8 [==============================] - 0s 7ms/step - loss: 0.2629 - accuracy: 0.9125 - val_loss: 0.3672 - val_accuracy: 0.8750\n",
            "Epoch 12/20\n",
            "8/8 [==============================] - 0s 7ms/step - loss: 0.2216 - accuracy: 0.9312 - val_loss: 0.3321 - val_accuracy: 0.8750\n",
            "Epoch 13/20\n",
            "8/8 [==============================] - 0s 7ms/step - loss: 0.1819 - accuracy: 0.9438 - val_loss: 0.2550 - val_accuracy: 0.9000\n",
            "Epoch 14/20\n",
            "8/8 [==============================] - 0s 10ms/step - loss: 0.1560 - accuracy: 0.9500 - val_loss: 0.2532 - val_accuracy: 0.9500\n",
            "Epoch 15/20\n",
            "8/8 [==============================] - 0s 6ms/step - loss: 0.1443 - accuracy: 0.9688 - val_loss: 0.1985 - val_accuracy: 0.9000\n",
            "Epoch 16/20\n",
            "8/8 [==============================] - 0s 9ms/step - loss: 0.1254 - accuracy: 0.9688 - val_loss: 0.1833 - val_accuracy: 0.9750\n",
            "Epoch 17/20\n",
            "8/8 [==============================] - 0s 6ms/step - loss: 0.0970 - accuracy: 0.9875 - val_loss: 0.1717 - val_accuracy: 1.0000\n",
            "Epoch 18/20\n",
            "8/8 [==============================] - 0s 9ms/step - loss: 0.0868 - accuracy: 0.9750 - val_loss: 0.1504 - val_accuracy: 0.9750\n",
            "Epoch 19/20\n",
            "8/8 [==============================] - 0s 6ms/step - loss: 0.0766 - accuracy: 1.0000 - val_loss: 0.1436 - val_accuracy: 0.9750\n",
            "Epoch 20/20\n",
            "8/8 [==============================] - 0s 7ms/step - loss: 0.0678 - accuracy: 0.9812 - val_loss: 0.1206 - val_accuracy: 0.9750\n"
          ]
        },
        {
          "output_type": "execute_result",
          "data": {
            "text/plain": [
              "<keras.callbacks.History at 0x7fc722a7be20>"
            ]
          },
          "metadata": {},
          "execution_count": 75
        }
      ]
    },
    {
      "cell_type": "code",
      "source": [
        "y_pred = model.predict(x_test)\n",
        "y_pred"
      ],
      "metadata": {
        "colab": {
          "base_uri": "https://localhost:8080/"
        },
        "id": "Y5Kth2H3XJ_3",
        "outputId": "8d0bdc8f-af11-4663-e011-a83fcde4ddb7"
      },
      "execution_count": 76,
      "outputs": [
        {
          "output_type": "stream",
          "name": "stderr",
          "text": [
            "WARNING:tensorflow:5 out of the last 7 calls to <function Model.make_predict_function.<locals>.predict_function at 0x7fc722bf49d0> triggered tf.function retracing. Tracing is expensive and the excessive number of tracings could be due to (1) creating @tf.function repeatedly in a loop, (2) passing tensors with different shapes, (3) passing Python objects instead of tensors. For (1), please define your @tf.function outside of the loop. For (2), @tf.function has reduce_retracing=True option that can avoid unnecessary retracing. For (3), please refer to https://www.tensorflow.org/guide/function#controlling_retracing and https://www.tensorflow.org/api_docs/python/tf/function for  more details.\n"
          ]
        },
        {
          "output_type": "stream",
          "name": "stdout",
          "text": [
            "2/2 [==============================] - 0s 9ms/step\n"
          ]
        },
        {
          "output_type": "execute_result",
          "data": {
            "text/plain": [
              "array([[4.13405127e-04, 1.27605614e-04, 2.03855492e-07, 7.50870770e-03,\n",
              "        9.91949975e-01],\n",
              "       [9.94201958e-01, 5.14725503e-03, 2.99533876e-05, 4.84759919e-04,\n",
              "        1.36094895e-04],\n",
              "       [2.79626124e-06, 1.99977421e-06, 5.16646413e-11, 6.72629918e-04,\n",
              "        9.99322474e-01],\n",
              "       [2.83280946e-03, 3.48852053e-02, 8.92015360e-03, 7.59812355e-01,\n",
              "        1.93549350e-01],\n",
              "       [9.99999940e-01, 3.28292191e-19, 1.42062910e-17, 8.46457494e-17,\n",
              "        5.58904698e-17],\n",
              "       [9.99691248e-01, 2.56415988e-05, 2.51631485e-04, 2.94335568e-05,\n",
              "        2.17517095e-06],\n",
              "       [9.99999940e-01, 3.61117553e-10, 4.05409484e-10, 1.11134280e-09,\n",
              "        9.09846420e-10],\n",
              "       [7.46123632e-03, 1.53253040e-05, 2.05253734e-08, 1.85971186e-02,\n",
              "        9.73926246e-01],\n",
              "       [4.89533022e-02, 8.14404786e-01, 6.96765035e-02, 5.54476641e-02,\n",
              "        1.15178749e-02],\n",
              "       [3.14717290e-05, 3.12856696e-06, 1.03769771e-07, 3.07339523e-03,\n",
              "        9.96891856e-01],\n",
              "       [8.33706290e-04, 9.44750011e-01, 4.69562830e-03, 4.91494723e-02,\n",
              "        5.71190671e-04],\n",
              "       [5.63477771e-03, 1.65499118e-03, 4.97897986e-07, 2.14239918e-02,\n",
              "        9.71285701e-01],\n",
              "       [9.99937952e-01, 3.12065737e-07, 1.05881973e-07, 2.78759489e-05,\n",
              "        3.36685516e-05],\n",
              "       [3.92728811e-03, 9.50904250e-01, 2.91301263e-03, 4.14308533e-02,\n",
              "        8.24655988e-04],\n",
              "       [2.11916384e-04, 1.94486752e-02, 9.77127016e-01, 3.20940185e-03,\n",
              "        2.85138822e-06],\n",
              "       [9.99988854e-01, 2.64876510e-10, 1.12958193e-11, 9.42942393e-07,\n",
              "        1.01327441e-05],\n",
              "       [1.60759955e-03, 1.64753329e-02, 9.78582621e-01, 3.29385232e-03,\n",
              "        4.04419807e-05],\n",
              "       [1.57631177e-06, 4.22669018e-07, 7.01798897e-10, 9.63229686e-04,\n",
              "        9.99034703e-01],\n",
              "       [3.98420263e-04, 1.10615864e-01, 1.25297796e-04, 5.62819958e-01,\n",
              "        3.26040477e-01],\n",
              "       [9.99999940e-01, 2.10215739e-14, 7.02131292e-14, 1.55016607e-11,\n",
              "        5.87058735e-11],\n",
              "       [8.40014219e-03, 1.10281460e-01, 8.65873754e-01, 1.37768965e-02,\n",
              "        1.66778930e-03],\n",
              "       [5.21895364e-02, 9.92505578e-04, 2.03632610e-03, 1.45251110e-01,\n",
              "        7.99530506e-01],\n",
              "       [8.76396836e-04, 2.67904103e-02, 9.21104662e-03, 4.60485995e-01,\n",
              "        5.02636135e-01],\n",
              "       [9.99999940e-01, 6.66354848e-15, 7.17282204e-14, 6.50112885e-13,\n",
              "        1.00215138e-12],\n",
              "       [9.99999940e-01, 5.00953337e-16, 5.93842814e-15, 3.52168192e-13,\n",
              "        5.14562525e-12],\n",
              "       [9.99999940e-01, 2.64196543e-15, 2.55897327e-14, 2.75578768e-13,\n",
              "        3.84631481e-13],\n",
              "       [1.00730290e-03, 5.72257526e-02, 1.34035340e-03, 6.65092647e-01,\n",
              "        2.75333911e-01],\n",
              "       [2.08249821e-05, 4.83725955e-07, 1.95186818e-11, 9.81732621e-04,\n",
              "        9.98996973e-01],\n",
              "       [9.99999940e-01, 3.62774255e-11, 6.37677827e-11, 1.92503111e-10,\n",
              "        1.42245091e-10],\n",
              "       [1.29936814e-01, 4.21307086e-05, 3.51125891e-06, 8.77872203e-03,\n",
              "        8.61238778e-01],\n",
              "       [9.99990046e-01, 5.69632475e-09, 3.74583742e-09, 6.74399985e-07,\n",
              "        9.22276013e-06],\n",
              "       [1.28411793e-05, 1.30465448e-01, 7.51612561e-06, 8.05001497e-01,\n",
              "        6.45127445e-02],\n",
              "       [1.78256020e-01, 1.00485990e-02, 5.48207936e-05, 3.79701257e-01,\n",
              "        4.31939214e-01],\n",
              "       [9.99999583e-01, 2.13776746e-10, 6.09901921e-11, 3.22761871e-08,\n",
              "        3.09697043e-07],\n",
              "       [1.15087496e-04, 8.31787109e-01, 1.56512201e-01, 1.14013907e-02,\n",
              "        1.84151490e-04],\n",
              "       [9.99999940e-01, 6.83683931e-14, 4.79056085e-13, 1.24546218e-12,\n",
              "        5.17932702e-13],\n",
              "       [1.88411415e-01, 1.24890450e-03, 5.95483556e-03, 1.63057938e-01,\n",
              "        6.41326845e-01],\n",
              "       [2.12751655e-03, 9.30602849e-01, 2.18930449e-02, 4.26748469e-02,\n",
              "        2.70170020e-03],\n",
              "       [9.99997914e-01, 6.68790108e-07, 2.85858519e-08, 8.10713004e-07,\n",
              "        4.23714482e-07],\n",
              "       [4.69133374e-04, 9.55850482e-01, 1.62037276e-02, 2.63245087e-02,\n",
              "        1.15206011e-03]], dtype=float32)"
            ]
          },
          "metadata": {},
          "execution_count": 76
        }
      ]
    },
    {
      "cell_type": "code",
      "source": [
        "comp = pd.DataFrame(y_test_encoded)  # Creating a dataframe\n",
        "comp.columns = ['Actual Value']  # Changing the column name\n",
        "comp"
      ],
      "metadata": {
        "colab": {
          "base_uri": "https://localhost:8080/",
          "height": 1000
        },
        "id": "LZgDHJ5ZXOBy",
        "outputId": "5985dd15-b4e7-477b-9dee-0dcfa734d3ac"
      },
      "execution_count": 77,
      "outputs": [
        {
          "output_type": "execute_result",
          "data": {
            "text/plain": [
              "    Actual Value\n",
              "0              4\n",
              "1              0\n",
              "2              4\n",
              "3              3\n",
              "4              0\n",
              "5              0\n",
              "6              0\n",
              "7              4\n",
              "8              1\n",
              "9              4\n",
              "10             1\n",
              "11             4\n",
              "12             0\n",
              "13             1\n",
              "14             2\n",
              "15             0\n",
              "16             2\n",
              "17             4\n",
              "18             3\n",
              "19             0\n",
              "20             2\n",
              "21             4\n",
              "22             4\n",
              "23             0\n",
              "24             0\n",
              "25             0\n",
              "26             3\n",
              "27             4\n",
              "28             0\n",
              "29             4\n",
              "30             0\n",
              "31             3\n",
              "32             3\n",
              "33             0\n",
              "34             1\n",
              "35             0\n",
              "36             4\n",
              "37             1\n",
              "38             0\n",
              "39             1"
            ],
            "text/html": [
              "\n",
              "  <div id=\"df-013c4655-59d7-4f2a-871a-a58ba61a00ff\">\n",
              "    <div class=\"colab-df-container\">\n",
              "      <div>\n",
              "<style scoped>\n",
              "    .dataframe tbody tr th:only-of-type {\n",
              "        vertical-align: middle;\n",
              "    }\n",
              "\n",
              "    .dataframe tbody tr th {\n",
              "        vertical-align: top;\n",
              "    }\n",
              "\n",
              "    .dataframe thead th {\n",
              "        text-align: right;\n",
              "    }\n",
              "</style>\n",
              "<table border=\"1\" class=\"dataframe\">\n",
              "  <thead>\n",
              "    <tr style=\"text-align: right;\">\n",
              "      <th></th>\n",
              "      <th>Actual Value</th>\n",
              "    </tr>\n",
              "  </thead>\n",
              "  <tbody>\n",
              "    <tr>\n",
              "      <th>0</th>\n",
              "      <td>4</td>\n",
              "    </tr>\n",
              "    <tr>\n",
              "      <th>1</th>\n",
              "      <td>0</td>\n",
              "    </tr>\n",
              "    <tr>\n",
              "      <th>2</th>\n",
              "      <td>4</td>\n",
              "    </tr>\n",
              "    <tr>\n",
              "      <th>3</th>\n",
              "      <td>3</td>\n",
              "    </tr>\n",
              "    <tr>\n",
              "      <th>4</th>\n",
              "      <td>0</td>\n",
              "    </tr>\n",
              "    <tr>\n",
              "      <th>5</th>\n",
              "      <td>0</td>\n",
              "    </tr>\n",
              "    <tr>\n",
              "      <th>6</th>\n",
              "      <td>0</td>\n",
              "    </tr>\n",
              "    <tr>\n",
              "      <th>7</th>\n",
              "      <td>4</td>\n",
              "    </tr>\n",
              "    <tr>\n",
              "      <th>8</th>\n",
              "      <td>1</td>\n",
              "    </tr>\n",
              "    <tr>\n",
              "      <th>9</th>\n",
              "      <td>4</td>\n",
              "    </tr>\n",
              "    <tr>\n",
              "      <th>10</th>\n",
              "      <td>1</td>\n",
              "    </tr>\n",
              "    <tr>\n",
              "      <th>11</th>\n",
              "      <td>4</td>\n",
              "    </tr>\n",
              "    <tr>\n",
              "      <th>12</th>\n",
              "      <td>0</td>\n",
              "    </tr>\n",
              "    <tr>\n",
              "      <th>13</th>\n",
              "      <td>1</td>\n",
              "    </tr>\n",
              "    <tr>\n",
              "      <th>14</th>\n",
              "      <td>2</td>\n",
              "    </tr>\n",
              "    <tr>\n",
              "      <th>15</th>\n",
              "      <td>0</td>\n",
              "    </tr>\n",
              "    <tr>\n",
              "      <th>16</th>\n",
              "      <td>2</td>\n",
              "    </tr>\n",
              "    <tr>\n",
              "      <th>17</th>\n",
              "      <td>4</td>\n",
              "    </tr>\n",
              "    <tr>\n",
              "      <th>18</th>\n",
              "      <td>3</td>\n",
              "    </tr>\n",
              "    <tr>\n",
              "      <th>19</th>\n",
              "      <td>0</td>\n",
              "    </tr>\n",
              "    <tr>\n",
              "      <th>20</th>\n",
              "      <td>2</td>\n",
              "    </tr>\n",
              "    <tr>\n",
              "      <th>21</th>\n",
              "      <td>4</td>\n",
              "    </tr>\n",
              "    <tr>\n",
              "      <th>22</th>\n",
              "      <td>4</td>\n",
              "    </tr>\n",
              "    <tr>\n",
              "      <th>23</th>\n",
              "      <td>0</td>\n",
              "    </tr>\n",
              "    <tr>\n",
              "      <th>24</th>\n",
              "      <td>0</td>\n",
              "    </tr>\n",
              "    <tr>\n",
              "      <th>25</th>\n",
              "      <td>0</td>\n",
              "    </tr>\n",
              "    <tr>\n",
              "      <th>26</th>\n",
              "      <td>3</td>\n",
              "    </tr>\n",
              "    <tr>\n",
              "      <th>27</th>\n",
              "      <td>4</td>\n",
              "    </tr>\n",
              "    <tr>\n",
              "      <th>28</th>\n",
              "      <td>0</td>\n",
              "    </tr>\n",
              "    <tr>\n",
              "      <th>29</th>\n",
              "      <td>4</td>\n",
              "    </tr>\n",
              "    <tr>\n",
              "      <th>30</th>\n",
              "      <td>0</td>\n",
              "    </tr>\n",
              "    <tr>\n",
              "      <th>31</th>\n",
              "      <td>3</td>\n",
              "    </tr>\n",
              "    <tr>\n",
              "      <th>32</th>\n",
              "      <td>3</td>\n",
              "    </tr>\n",
              "    <tr>\n",
              "      <th>33</th>\n",
              "      <td>0</td>\n",
              "    </tr>\n",
              "    <tr>\n",
              "      <th>34</th>\n",
              "      <td>1</td>\n",
              "    </tr>\n",
              "    <tr>\n",
              "      <th>35</th>\n",
              "      <td>0</td>\n",
              "    </tr>\n",
              "    <tr>\n",
              "      <th>36</th>\n",
              "      <td>4</td>\n",
              "    </tr>\n",
              "    <tr>\n",
              "      <th>37</th>\n",
              "      <td>1</td>\n",
              "    </tr>\n",
              "    <tr>\n",
              "      <th>38</th>\n",
              "      <td>0</td>\n",
              "    </tr>\n",
              "    <tr>\n",
              "      <th>39</th>\n",
              "      <td>1</td>\n",
              "    </tr>\n",
              "  </tbody>\n",
              "</table>\n",
              "</div>\n",
              "      <button class=\"colab-df-convert\" onclick=\"convertToInteractive('df-013c4655-59d7-4f2a-871a-a58ba61a00ff')\"\n",
              "              title=\"Convert this dataframe to an interactive table.\"\n",
              "              style=\"display:none;\">\n",
              "        \n",
              "  <svg xmlns=\"http://www.w3.org/2000/svg\" height=\"24px\"viewBox=\"0 0 24 24\"\n",
              "       width=\"24px\">\n",
              "    <path d=\"M0 0h24v24H0V0z\" fill=\"none\"/>\n",
              "    <path d=\"M18.56 5.44l.94 2.06.94-2.06 2.06-.94-2.06-.94-.94-2.06-.94 2.06-2.06.94zm-11 1L8.5 8.5l.94-2.06 2.06-.94-2.06-.94L8.5 2.5l-.94 2.06-2.06.94zm10 10l.94 2.06.94-2.06 2.06-.94-2.06-.94-.94-2.06-.94 2.06-2.06.94z\"/><path d=\"M17.41 7.96l-1.37-1.37c-.4-.4-.92-.59-1.43-.59-.52 0-1.04.2-1.43.59L10.3 9.45l-7.72 7.72c-.78.78-.78 2.05 0 2.83L4 21.41c.39.39.9.59 1.41.59.51 0 1.02-.2 1.41-.59l7.78-7.78 2.81-2.81c.8-.78.8-2.07 0-2.86zM5.41 20L4 18.59l7.72-7.72 1.47 1.35L5.41 20z\"/>\n",
              "  </svg>\n",
              "      </button>\n",
              "      \n",
              "  <style>\n",
              "    .colab-df-container {\n",
              "      display:flex;\n",
              "      flex-wrap:wrap;\n",
              "      gap: 12px;\n",
              "    }\n",
              "\n",
              "    .colab-df-convert {\n",
              "      background-color: #E8F0FE;\n",
              "      border: none;\n",
              "      border-radius: 50%;\n",
              "      cursor: pointer;\n",
              "      display: none;\n",
              "      fill: #1967D2;\n",
              "      height: 32px;\n",
              "      padding: 0 0 0 0;\n",
              "      width: 32px;\n",
              "    }\n",
              "\n",
              "    .colab-df-convert:hover {\n",
              "      background-color: #E2EBFA;\n",
              "      box-shadow: 0px 1px 2px rgba(60, 64, 67, 0.3), 0px 1px 3px 1px rgba(60, 64, 67, 0.15);\n",
              "      fill: #174EA6;\n",
              "    }\n",
              "\n",
              "    [theme=dark] .colab-df-convert {\n",
              "      background-color: #3B4455;\n",
              "      fill: #D2E3FC;\n",
              "    }\n",
              "\n",
              "    [theme=dark] .colab-df-convert:hover {\n",
              "      background-color: #434B5C;\n",
              "      box-shadow: 0px 1px 3px 1px rgba(0, 0, 0, 0.15);\n",
              "      filter: drop-shadow(0px 1px 2px rgba(0, 0, 0, 0.3));\n",
              "      fill: #FFFFFF;\n",
              "    }\n",
              "  </style>\n",
              "\n",
              "      <script>\n",
              "        const buttonEl =\n",
              "          document.querySelector('#df-013c4655-59d7-4f2a-871a-a58ba61a00ff button.colab-df-convert');\n",
              "        buttonEl.style.display =\n",
              "          google.colab.kernel.accessAllowed ? 'block' : 'none';\n",
              "\n",
              "        async function convertToInteractive(key) {\n",
              "          const element = document.querySelector('#df-013c4655-59d7-4f2a-871a-a58ba61a00ff');\n",
              "          const dataTable =\n",
              "            await google.colab.kernel.invokeFunction('convertToInteractive',\n",
              "                                                     [key], {});\n",
              "          if (!dataTable) return;\n",
              "\n",
              "          const docLinkHtml = 'Like what you see? Visit the ' +\n",
              "            '<a target=\"_blank\" href=https://colab.research.google.com/notebooks/data_table.ipynb>data table notebook</a>'\n",
              "            + ' to learn more about interactive tables.';\n",
              "          element.innerHTML = '';\n",
              "          dataTable['output_type'] = 'display_data';\n",
              "          await google.colab.output.renderOutput(dataTable, element);\n",
              "          const docLink = document.createElement('div');\n",
              "          docLink.innerHTML = docLinkHtml;\n",
              "          element.appendChild(docLink);\n",
              "        }\n",
              "      </script>\n",
              "    </div>\n",
              "  </div>\n",
              "  "
            ]
          },
          "metadata": {},
          "execution_count": 77
        }
      ]
    },
    {
      "cell_type": "code",
      "source": [
        "# Print the model summary\n",
        "\n",
        "model.summary()"
      ],
      "metadata": {
        "colab": {
          "base_uri": "https://localhost:8080/"
        },
        "id": "y3WEnt4RJkv3",
        "outputId": "382eedb1-6b58-42f3-e95a-b5ac11c2a167"
      },
      "execution_count": 78,
      "outputs": [
        {
          "output_type": "stream",
          "name": "stdout",
          "text": [
            "Model: \"sequential_1\"\n",
            "_________________________________________________________________\n",
            " Layer (type)                Output Shape              Param #   \n",
            "=================================================================\n",
            " dense_5 (Dense)             (None, 64)                384       \n",
            "                                                                 \n",
            " dense_6 (Dense)             (None, 128)               8320      \n",
            "                                                                 \n",
            " dense_7 (Dense)             (None, 64)                8256      \n",
            "                                                                 \n",
            " dense_8 (Dense)             (None, 32)                2080      \n",
            "                                                                 \n",
            " dense_9 (Dense)             (None, 5)                 165       \n",
            "                                                                 \n",
            "=================================================================\n",
            "Total params: 19,205\n",
            "Trainable params: 19,205\n",
            "Non-trainable params: 0\n",
            "_________________________________________________________________\n"
          ]
        }
      ]
    },
    {
      "cell_type": "code",
      "source": [
        "# Task 3 : Test the model with random data"
      ],
      "metadata": {
        "id": "7zKRXx2tJtjx"
      },
      "execution_count": 79,
      "outputs": []
    },
    {
      "cell_type": "code",
      "source": [
        "# Generate random data for testing\n",
        "\n",
        "random_data = np.random.rand(1, 5)\n",
        "random_data"
      ],
      "metadata": {
        "colab": {
          "base_uri": "https://localhost:8080/"
        },
        "id": "3IY6eLwBKM8Z",
        "outputId": "25fd6cb9-559f-4663-de80-33db78edc36a"
      },
      "execution_count": 80,
      "outputs": [
        {
          "output_type": "execute_result",
          "data": {
            "text/plain": [
              "array([[0.87039758, 0.52583504, 0.74177248, 0.71396893, 0.03728909]])"
            ]
          },
          "metadata": {},
          "execution_count": 80
        }
      ]
    },
    {
      "cell_type": "code",
      "source": [
        "# Make predictions\n",
        "\n",
        "predictions = model.predict(random_data)\n",
        "predictions"
      ],
      "metadata": {
        "colab": {
          "base_uri": "https://localhost:8080/"
        },
        "id": "xDkJLE5OKWJi",
        "outputId": "163a12b5-0d79-4c9d-8c68-48880a0517ec"
      },
      "execution_count": 81,
      "outputs": [
        {
          "output_type": "stream",
          "name": "stderr",
          "text": [
            "WARNING:tensorflow:6 out of the last 9 calls to <function Model.make_predict_function.<locals>.predict_function at 0x7fc722bf49d0> triggered tf.function retracing. Tracing is expensive and the excessive number of tracings could be due to (1) creating @tf.function repeatedly in a loop, (2) passing tensors with different shapes, (3) passing Python objects instead of tensors. For (1), please define your @tf.function outside of the loop. For (2), @tf.function has reduce_retracing=True option that can avoid unnecessary retracing. For (3), please refer to https://www.tensorflow.org/guide/function#controlling_retracing and https://www.tensorflow.org/api_docs/python/tf/function for  more details.\n"
          ]
        },
        {
          "output_type": "stream",
          "name": "stdout",
          "text": [
            "1/1 [==============================] - 0s 77ms/step\n"
          ]
        },
        {
          "output_type": "execute_result",
          "data": {
            "text/plain": [
              "array([[9.9052775e-01, 3.0603227e-05, 6.6905326e-05, 1.3001083e-03,\n",
              "        8.0746198e-03]], dtype=float32)"
            ]
          },
          "metadata": {},
          "execution_count": 81
        }
      ]
    },
    {
      "cell_type": "code",
      "source": [
        "# Get the predicted drug class\n",
        "\n",
        "predicted_class = np.argmax(predictions)"
      ],
      "metadata": {
        "id": "YhGnMhVnKbiR"
      },
      "execution_count": 82,
      "outputs": []
    },
    {
      "cell_type": "code",
      "source": [
        "# Print the predicted class\n",
        "\n",
        "print(\"Predicted Drug Class :\", predicted_class)"
      ],
      "metadata": {
        "colab": {
          "base_uri": "https://localhost:8080/"
        },
        "id": "Rmt3Idh3Kfof",
        "outputId": "4315d2d8-3aaa-41de-f1e3-1b05e2d6bdb1"
      },
      "execution_count": 84,
      "outputs": [
        {
          "output_type": "stream",
          "name": "stdout",
          "text": [
            "Predicted Drug Class : 0\n"
          ]
        }
      ]
    }
  ]
}