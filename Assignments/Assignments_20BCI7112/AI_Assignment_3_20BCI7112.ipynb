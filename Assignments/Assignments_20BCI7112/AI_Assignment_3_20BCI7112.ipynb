{
  "cells": [
    {
      "cell_type": "code",
      "source": [
        "from google.colab import drive\n",
        "drive.mount('/content/drive')"
      ],
      "metadata": {
        "colab": {
          "base_uri": "https://localhost:8080/"
        },
        "id": "Y34aB0KEQsB9",
        "outputId": "fdd9878c-9030-465a-a0fc-3e0e744c1bab"
      },
      "execution_count": 1,
      "outputs": [
        {
          "output_type": "stream",
          "name": "stdout",
          "text": [
            "Mounted at /content/drive\n"
          ]
        }
      ]
    },
    {
      "cell_type": "code",
      "execution_count": 2,
      "metadata": {
        "id": "deyVhk2tgYtb",
        "colab": {
          "base_uri": "https://localhost:8080/"
        },
        "outputId": "24af9438-0800-4191-c9a8-567266167cd6"
      },
      "outputs": [
        {
          "output_type": "stream",
          "name": "stdout",
          "text": [
            "Archive:  /content/drive/MyDrive/test_data.zip\n",
            "   creating: test_data/\n",
            "   creating: test_data/blasti/\n",
            "  inflating: test_data/blasti/DSC_6396.jpg  \n",
            "  inflating: test_data/blasti/DSC_6397.jpg  \n",
            "  inflating: test_data/blasti/DSC_6398.jpg  \n",
            "  inflating: test_data/blasti/DSC_6399.jpg  \n",
            "  inflating: test_data/blasti/DSC_6400.jpg  \n",
            "  inflating: test_data/blasti/DSC_6401.jpg  \n",
            "  inflating: test_data/blasti/DSC_6402.jpg  \n",
            "  inflating: test_data/blasti/DSC_6403.jpg  \n",
            "  inflating: test_data/blasti/DSC_6405.jpg  \n",
            "  inflating: test_data/blasti/DSC_6406.jpg  \n",
            "  inflating: test_data/blasti/DSC_6407.jpg  \n",
            "  inflating: test_data/blasti/DSC_6408.jpg  \n",
            "  inflating: test_data/blasti/DSC_6409.jpg  \n",
            "  inflating: test_data/blasti/DSC_6410.jpg  \n",
            "  inflating: test_data/blasti/DSC_6411.jpg  \n",
            "   creating: test_data/bonegl/\n",
            "  inflating: test_data/bonegl/DSC_4587.jpg  \n",
            "  inflating: test_data/bonegl/DSC_4588.jpg  \n",
            "  inflating: test_data/bonegl/DSC_4589.jpg  \n",
            "  inflating: test_data/bonegl/DSC_4590.jpg  \n",
            "  inflating: test_data/bonegl/DSC_4591.jpg  \n",
            "  inflating: test_data/bonegl/DSC_4592.jpg  \n",
            "  inflating: test_data/bonegl/DSC_4593.jpg  \n",
            "   creating: test_data/brhkyt/\n",
            "  inflating: test_data/brhkyt/D72_0473.jpg  \n",
            "  inflating: test_data/brhkyt/D72_0474.jpg  \n",
            "  inflating: test_data/brhkyt/D72_0475.jpg  \n",
            "  inflating: test_data/brhkyt/D72_0477.jpg  \n",
            "  inflating: test_data/brhkyt/D72_0478.jpg  \n",
            "  inflating: test_data/brhkyt/D72_0479.jpg  \n",
            "   creating: test_data/cbrtsh/\n",
            "  inflating: test_data/cbrtsh/_D32_10310.jpg  \n",
            "  inflating: test_data/cbrtsh/_D32_10311.jpg  \n",
            "  inflating: test_data/cbrtsh/_D32_10312.jpg  \n",
            "  inflating: test_data/cbrtsh/_D32_10313.jpg  \n",
            "  inflating: test_data/cbrtsh/_D32_10314.jpg  \n",
            "  inflating: test_data/cbrtsh/_D32_10317.jpg  \n",
            "  inflating: test_data/cbrtsh/_D32_10318.jpg  \n",
            "   creating: test_data/cmnmyn/\n",
            "  inflating: test_data/cmnmyn/DSC_2443.jpg  \n",
            "  inflating: test_data/cmnmyn/DSC_4681.jpg  \n",
            "  inflating: test_data/cmnmyn/DSC_5137.jpg  \n",
            "  inflating: test_data/cmnmyn/DSC_7625.jpg  \n",
            "  inflating: test_data/cmnmyn/P1050277.jpg  \n",
            "  inflating: test_data/cmnmyn/_D32_12426.jpg  \n",
            "  inflating: test_data/cmnmyn/_D32_12427.jpg  \n",
            "  inflating: test_data/cmnmyn/_D32_12428.jpg  \n",
            "   creating: test_data/gretit/\n",
            "  inflating: test_data/gretit/11620454726_31a35c26da_o.jpg  \n",
            "  inflating: test_data/gretit/11776135285_ccf938fa2e_o.jpg  \n",
            "  inflating: test_data/gretit/11905645146_6a5d4ff9f9_o.jpg  \n",
            "  inflating: test_data/gretit/8537646712_0b282c4c6a_o.jpg  \n",
            "  inflating: test_data/gretit/D72_0693.jpg  \n",
            "  inflating: test_data/gretit/D72_0694.jpg  \n",
            "  inflating: test_data/gretit/D72_0695.jpg  \n",
            "   creating: test_data/hilpig/\n",
            "  inflating: test_data/hilpig/DSC_6359.jpg  \n",
            "  inflating: test_data/hilpig/DSC_6362.jpg  \n",
            "  inflating: test_data/hilpig/DSC_6364.jpg  \n",
            "  inflating: test_data/hilpig/DSC_6368.jpg  \n",
            "  inflating: test_data/hilpig/DSC_6403.jpg  \n",
            "  inflating: test_data/hilpig/DSC_6404.jpg  \n",
            "  inflating: test_data/hilpig/P1000319.jpg  \n",
            "  inflating: test_data/hilpig/P1000323.jpg  \n",
            "  inflating: test_data/hilpig/P1050044.jpg  \n",
            "  inflating: test_data/hilpig/P1050045.jpg  \n",
            "   creating: test_data/himbul/\n",
            "  inflating: test_data/himbul/11602064885_3826df4500_o.jpg  \n",
            "  inflating: test_data/himbul/11619942574_42f23a7b05_o.jpg  \n",
            "  inflating: test_data/himbul/11620097904_33fa8ee878_o.jpg  \n",
            "  inflating: test_data/himbul/5857371972_ed4f88b275_o.jpg  \n",
            "  inflating: test_data/himbul/6154954471_eefe6e00d1_o.jpg  \n",
            "  inflating: test_data/himbul/D72_0688.jpg  \n",
            "  inflating: test_data/himbul/D72_0691.jpg  \n",
            "  inflating: test_data/himbul/DSC08357.jpg  \n",
            "  inflating: test_data/himbul/DSC_3230.jpg  \n",
            "  inflating: test_data/himbul/DSC_7439.jpg  \n",
            "  inflating: test_data/himbul/DSC_7602.jpg  \n",
            "  inflating: test_data/himbul/P1060368.jpg  \n",
            "  inflating: test_data/himbul/P1060369.jpg  \n",
            "  inflating: test_data/himbul/_D32_10242.jpg  \n",
            "  inflating: test_data/himbul/_D32_10245.jpg  \n",
            "  inflating: test_data/himbul/_D32_10251.jpg  \n",
            "  inflating: test_data/himbul/_D32_10319.jpg  \n",
            "  inflating: test_data/himbul/_D32_10320.jpg  \n",
            "  inflating: test_data/himbul/_DSC9446.jpg  \n",
            "   creating: test_data/himgri/\n",
            "  inflating: test_data/himgri/IMG_5384.JPG  \n",
            "  inflating: test_data/himgri/IMG_5385.JPG  \n",
            "  inflating: test_data/himgri/IMG_5386.JPG  \n",
            "  inflating: test_data/himgri/IMG_5387.JPG  \n",
            "  inflating: test_data/himgri/IMG_5459.JPG  \n",
            "  inflating: test_data/himgri/IMG_5460.JPG  \n",
            "  inflating: test_data/himgri/IMG_5487.JPG  \n",
            "  inflating: test_data/himgri/IMG_5488.JPG  \n",
            "  inflating: test_data/himgri/IMG_5489.JPG  \n",
            "  inflating: test_data/himgri/IMG_5490.JPG  \n",
            "  inflating: test_data/himgri/IMG_5491.JPG  \n",
            "  inflating: test_data/himgri/IMG_5492.JPG  \n",
            "  inflating: test_data/himgri/P1020742.jpg  \n",
            "  inflating: test_data/himgri/P1020743.jpg  \n",
            "  inflating: test_data/himgri/P1020746.jpg  \n",
            "  inflating: test_data/himgri/P1020748.jpg  \n",
            "  inflating: test_data/himgri/P1030055.jpg  \n",
            "  inflating: test_data/himgri/P1060776.jpg  \n",
            "  inflating: test_data/himgri/P1060777.jpg  \n",
            "  inflating: test_data/himgri/P1060778.jpg  \n",
            "   creating: test_data/hsparo/\n",
            "  inflating: test_data/hsparo/100_5573.JPG  \n",
            "  inflating: test_data/hsparo/100_5585.JPG  \n",
            "  inflating: test_data/hsparo/100_5586.JPG  \n",
            "  inflating: test_data/hsparo/100_5742.JPG  \n",
            "  inflating: test_data/hsparo/12265273154_48e0fefd42_o.jpg  \n",
            "  inflating: test_data/hsparo/DSC_4521.jpg  \n",
            "  inflating: test_data/hsparo/DSC_7619.jpg  \n",
            "  inflating: test_data/hsparo/_DSC_11244.jpg  \n",
            "  inflating: test_data/hsparo/_DSC_11246.jpg  \n",
            "   creating: test_data/indvul/\n",
            "  inflating: test_data/indvul/DSC_1263.jpg  \n",
            "  inflating: test_data/indvul/DSC_1273.jpg  \n",
            "  inflating: test_data/indvul/DSC_1274.jpg  \n",
            "  inflating: test_data/indvul/DSC_1275.jpg  \n",
            "  inflating: test_data/indvul/DSC_1277.jpg  \n",
            "  inflating: test_data/indvul/_DSC8754.jpg  \n",
            "  inflating: test_data/indvul/_DSC9520.jpg  \n",
            "  inflating: test_data/indvul/_DSC9521.jpg  \n",
            "  inflating: test_data/indvul/_DSC9523.jpg  \n",
            "   creating: test_data/jglowl/\n",
            "  inflating: test_data/jglowl/_D32_10584.jpg  \n",
            "  inflating: test_data/jglowl/_D32_10587.jpg  \n",
            "  inflating: test_data/jglowl/_D32_10593.jpg  \n",
            "  inflating: test_data/jglowl/_D32_13515.jpg  \n",
            "  inflating: test_data/jglowl/_D32_13516.jpg  \n",
            "  inflating: test_data/jglowl/_D32_13517.jpg  \n",
            "   creating: test_data/lbicrw/\n",
            "  inflating: test_data/lbicrw/100_4917.JPG  \n",
            "  inflating: test_data/lbicrw/IMG_5538.JPG  \n",
            "  inflating: test_data/lbicrw/IMG_5541.JPG  \n",
            "  inflating: test_data/lbicrw/IMG_5543.JPG  \n",
            "  inflating: test_data/lbicrw/IMG_5544.JPG  \n",
            "  inflating: test_data/lbicrw/P1030030.jpg  \n",
            "   creating: test_data/mgprob/\n",
            "  inflating: test_data/mgprob/100_5811.JPG  \n",
            "  inflating: test_data/mgprob/100_5812.JPG  \n",
            "  inflating: test_data/mgprob/100_5813.JPG  \n",
            "  inflating: test_data/mgprob/DSC_3233.jpg  \n",
            "  inflating: test_data/mgprob/_DSC0085.jpg  \n",
            "  inflating: test_data/mgprob/_DSC0133.jpg  \n",
            "  inflating: test_data/mgprob/_DSC0135.jpg  \n",
            "   creating: test_data/rebimg/\n",
            "  inflating: test_data/rebimg/100_5756.JPG  \n",
            "  inflating: test_data/rebimg/100_5757.JPG  \n",
            "  inflating: test_data/rebimg/100_5758.JPG  \n",
            "  inflating: test_data/rebimg/100_5759.JPG  \n",
            "  inflating: test_data/rebimg/100_5760.JPG  \n",
            "  inflating: test_data/rebimg/13009302395_5d88a9d62b_o.jpg  \n",
            "  inflating: test_data/rebimg/13009315305_f1cbfb6767_o.jpg  \n",
            "  inflating: test_data/rebimg/13009451823_8eb502581f_o.jpg  \n",
            "  inflating: test_data/rebimg/DSC_7148.jpg  \n",
            "  inflating: test_data/rebimg/IMG_5251.JPG  \n",
            "  inflating: test_data/rebimg/IMG_5252.JPG  \n",
            "   creating: test_data/wcrsrt/\n",
            "  inflating: test_data/wcrsrt/100_4462.JPG  \n",
            "  inflating: test_data/wcrsrt/100_4463.JPG  \n",
            "  inflating: test_data/wcrsrt/100_4464.JPG  \n",
            "  inflating: test_data/wcrsrt/100_4466.JPG  \n",
            "  inflating: test_data/wcrsrt/100_4467.JPG  \n",
            "  inflating: test_data/wcrsrt/100_4468.JPG  \n",
            "  inflating: test_data/wcrsrt/100_5103.JPG  \n",
            "  inflating: test_data/wcrsrt/100_5105.JPG  \n",
            "  inflating: test_data/wcrsrt/11382677585_ef6570a041_o.jpg  \n",
            "  inflating: test_data/wcrsrt/11382746854_7ce73793b3_o.jpg  \n"
          ]
        }
      ],
      "source": [
        "!unzip '/content/drive/MyDrive/test_data.zip'"
      ]
    },
    {
      "cell_type": "code",
      "execution_count": 3,
      "metadata": {
        "id": "9ufFcLvGr8GV",
        "colab": {
          "base_uri": "https://localhost:8080/"
        },
        "outputId": "60822769-e4fd-4b24-dc64-6f76b51604ab"
      },
      "outputs": [
        {
          "output_type": "stream",
          "name": "stdout",
          "text": [
            "Archive:  /content/drive/MyDrive/train_data.zip\n",
            "   creating: train_data/\n",
            "   creating: train_data/blasti/\n",
            "  inflating: train_data/blasti/DSC_6382.jpg  \n",
            "  inflating: train_data/blasti/DSC_6383.jpg  \n",
            "  inflating: train_data/blasti/DSC_6384-2.jpg  \n",
            "  inflating: train_data/blasti/DSC_6384.jpg  \n",
            "  inflating: train_data/blasti/DSC_6385.jpg  \n",
            "  inflating: train_data/blasti/DSC_6386.jpg  \n",
            "  inflating: train_data/blasti/DSC_6387.jpg  \n",
            "  inflating: train_data/blasti/DSC_6388.jpg  \n",
            "  inflating: train_data/blasti/DSC_6389.jpg  \n",
            "  inflating: train_data/blasti/DSC_6390.jpg  \n",
            "  inflating: train_data/blasti/DSC_6391.jpg  \n",
            "  inflating: train_data/blasti/DSC_6392.jpg  \n",
            "  inflating: train_data/blasti/DSC_6393.jpg  \n",
            "  inflating: train_data/blasti/DSC_6394.jpg  \n",
            "  inflating: train_data/blasti/DSC_6395.jpg  \n",
            "   creating: train_data/bonegl/\n",
            "  inflating: train_data/bonegl/DSC_4570.jpg  \n",
            "  inflating: train_data/bonegl/DSC_4571.jpg  \n",
            "  inflating: train_data/bonegl/DSC_4583.jpg  \n",
            "  inflating: train_data/bonegl/DSC_4584.jpg  \n",
            "  inflating: train_data/bonegl/DSC_4585.jpg  \n",
            "  inflating: train_data/bonegl/DSC_4586.jpg  \n",
            "   creating: train_data/brhkyt/\n",
            "  inflating: train_data/brhkyt/D72_0400.jpg  \n",
            "  inflating: train_data/brhkyt/D72_0401.jpg  \n",
            "  inflating: train_data/brhkyt/D72_0470.jpg  \n",
            "  inflating: train_data/brhkyt/D72_0471.jpg  \n",
            "  inflating: train_data/brhkyt/D72_0472.jpg  \n",
            "   creating: train_data/cbrtsh/\n",
            "  inflating: train_data/cbrtsh/100_5097.JPG  \n",
            "  inflating: train_data/cbrtsh/_D32_10303.jpg  \n",
            "  inflating: train_data/cbrtsh/_D32_10305.jpg  \n",
            "  inflating: train_data/cbrtsh/_D32_10306.jpg  \n",
            "  inflating: train_data/cbrtsh/_D32_10307.jpg  \n",
            "  inflating: train_data/cbrtsh/_D32_10308.jpg  \n",
            "  inflating: train_data/cbrtsh/_D32_10309.jpg  \n",
            "   creating: train_data/cmnmyn/\n",
            "  inflating: train_data/cmnmyn/100_5763.JPG  \n",
            "  inflating: train_data/cmnmyn/5866682091_870ccc946c_o.jpg  \n",
            "  inflating: train_data/cmnmyn/6154956165_64266b8b53_o.jpg  \n",
            "  inflating: train_data/cmnmyn/DSCN5784.jpg  \n",
            "  inflating: train_data/cmnmyn/DSCN5787.jpg  \n",
            "  inflating: train_data/cmnmyn/DSCN5790.jpg  \n",
            "  inflating: train_data/cmnmyn/DSCN5791.jpg  \n",
            "   creating: train_data/gretit/\n",
            "  inflating: train_data/gretit/100_5042.JPG  \n",
            "  inflating: train_data/gretit/100_5043.JPG  \n",
            "  inflating: train_data/gretit/100_5044.JPG  \n",
            "  inflating: train_data/gretit/100_5045.JPG  \n",
            "  inflating: train_data/gretit/100_5046.JPG  \n",
            "  inflating: train_data/gretit/100_5047.JPG  \n",
            "   creating: train_data/hilpig/\n",
            "  inflating: train_data/hilpig/DSC_6272.jpg  \n",
            "  inflating: train_data/hilpig/DSC_6273.jpg  \n",
            "  inflating: train_data/hilpig/DSC_6274.jpg  \n",
            "  inflating: train_data/hilpig/DSC_6275.jpg  \n",
            "  inflating: train_data/hilpig/DSC_6350.jpg  \n",
            "  inflating: train_data/hilpig/DSC_6351.jpg  \n",
            "  inflating: train_data/hilpig/DSC_6352.jpg  \n",
            "  inflating: train_data/hilpig/DSC_6353.jpg  \n",
            "  inflating: train_data/hilpig/DSC_6354.jpg  \n",
            "  inflating: train_data/hilpig/DSC_6358.jpg  \n",
            "   creating: train_data/himbul/\n",
            "  inflating: train_data/himbul/100_5028.JPG  \n",
            "  inflating: train_data/himbul/100_5029.JPG  \n",
            "  inflating: train_data/himbul/100_5096.JPG  \n",
            "  inflating: train_data/himbul/100_5099.JPG  \n",
            "  inflating: train_data/himbul/100_5100.JPG  \n",
            "  inflating: train_data/himbul/100_5102.JPG  \n",
            "  inflating: train_data/himbul/100_5110.JPG  \n",
            "  inflating: train_data/himbul/100_5112.JPG  \n",
            "  inflating: train_data/himbul/100_5113.JPG  \n",
            "  inflating: train_data/himbul/100_5159.JPG  \n",
            "  inflating: train_data/himbul/100_5160.JPG  \n",
            "  inflating: train_data/himbul/100_5161.JPG  \n",
            "  inflating: train_data/himbul/100_5162.JPG  \n",
            "  inflating: train_data/himbul/10774570945_9bc537c255_o.jpg  \n",
            "  inflating: train_data/himbul/11383838134_96e891a316_o.jpg  \n",
            "  inflating: train_data/himbul/11383857084_cdd7514746_o.jpg  \n",
            "  inflating: train_data/himbul/11387473723_464965720a_o.jpg  \n",
            "  inflating: train_data/himbul/9007817678_24db19fc63_o.jpg  \n",
            "   creating: train_data/himgri/\n",
            "  inflating: train_data/himgri/12029790563_2fe54a68aa_o.jpg  \n",
            "  inflating: train_data/himgri/12029822653_1185544e7b_o.jpg  \n",
            "  inflating: train_data/himgri/12029933015_802428e277_o.jpg  \n",
            "  inflating: train_data/himgri/12029987304_031b7a2d53_o.jpg  \n",
            "  inflating: train_data/himgri/12030165813_f5341e8ed0_o.jpg  \n",
            "  inflating: train_data/himgri/12030221124_1baaf905d1_o.jpg  \n",
            "  inflating: train_data/himgri/12030269234_1c3f5a8e8c_o.jpg  \n",
            "  inflating: train_data/himgri/12152037683_13e1556c41_o.jpg  \n",
            "  inflating: train_data/himgri/12152178844_dc29e3126f_o.jpg  \n",
            "  inflating: train_data/himgri/12152510436_23b62fed3b_o.jpg  \n",
            "  inflating: train_data/himgri/12265055185_138e3c7c70_o.jpg  \n",
            "  inflating: train_data/himgri/12265498144_d2e80faa3b_o.jpg  \n",
            "  inflating: train_data/himgri/12265561764_4814951031_o.jpg  \n",
            "  inflating: train_data/himgri/12265582724_61cb64e73a_o.jpg  \n",
            "  inflating: train_data/himgri/12265738206_2b9b25cc8a_o.jpg  \n",
            "  inflating: train_data/himgri/12265747116_d4b4fa3741_o.jpg  \n",
            "  inflating: train_data/himgri/12266053036_fcab92d8e8_o.jpg  \n",
            "  inflating: train_data/himgri/12266077576_1d7143aaf7_o.jpg  \n",
            "  inflating: train_data/himgri/12266086526_82cd337667_o.jpg  \n",
            "  inflating: train_data/himgri/IMG_5463.JPG  \n",
            "   creating: train_data/hsparo/\n",
            "  inflating: train_data/hsparo/100_4757.JPG  \n",
            "  inflating: train_data/hsparo/100_4758.JPG  \n",
            "  inflating: train_data/hsparo/100_5039.JPG  \n",
            "  inflating: train_data/hsparo/100_5040.JPG  \n",
            "  inflating: train_data/hsparo/100_5041.JPG  \n",
            "  inflating: train_data/hsparo/100_5048.JPG  \n",
            "  inflating: train_data/hsparo/100_5049.JPG  \n",
            "  inflating: train_data/hsparo/100_5050.JPG  \n",
            "  inflating: train_data/hsparo/100_5572.JPG  \n",
            "   creating: train_data/indvul/\n",
            "  inflating: train_data/indvul/DSC_0502.jpg  \n",
            "  inflating: train_data/indvul/DSC_0571e.jpg  \n",
            "  inflating: train_data/indvul/DSC_0572.jpg  \n",
            "  inflating: train_data/indvul/DSC_0576e.jpg  \n",
            "  inflating: train_data/indvul/DSC_0582.jpg  \n",
            "  inflating: train_data/indvul/DSC_0583e.jpg  \n",
            "  inflating: train_data/indvul/DSC_0584.jpg  \n",
            "  inflating: train_data/indvul/DSC_0616c.jpg  \n",
            "  inflating: train_data/indvul/DSC_0617.jpg  \n",
            "   creating: train_data/jglowl/\n",
            "  inflating: train_data/jglowl/12152151476_7a1524aabb_o.jpg  \n",
            "  inflating: train_data/jglowl/DSC01335.jpg  \n",
            "  inflating: train_data/jglowl/DSC01336.jpg  \n",
            "  inflating: train_data/jglowl/_D32_10285.jpg  \n",
            "  inflating: train_data/jglowl/_D32_10578.jpg  \n",
            "  inflating: train_data/jglowl/_D32_10583.jpg  \n",
            "   creating: train_data/lbicrw/\n",
            "  inflating: train_data/lbicrw/100_4037.JPG  \n",
            "  inflating: train_data/lbicrw/100_4912.JPG  \n",
            "  inflating: train_data/lbicrw/100_4913.JPG  \n",
            "  inflating: train_data/lbicrw/100_4914.JPG  \n",
            "  inflating: train_data/lbicrw/100_4915.JPG  \n",
            "  inflating: train_data/lbicrw/100_4916.JPG  \n",
            "   creating: train_data/mgprob/\n",
            "  inflating: train_data/mgprob/100_5587.JPG  \n",
            "  inflating: train_data/mgprob/100_5588.JPG  \n",
            "  inflating: train_data/mgprob/100_5589.JPG  \n",
            "  inflating: train_data/mgprob/100_5590.JPG  \n",
            "  inflating: train_data/mgprob/100_5592.JPG  \n",
            "  inflating: train_data/mgprob/100_5762.JPG  \n",
            "   creating: train_data/rebimg/\n",
            "  inflating: train_data/rebimg/100_5744.JPG  \n",
            "  inflating: train_data/rebimg/100_5745.JPG  \n",
            "  inflating: train_data/rebimg/100_5746.JPG  \n",
            "  inflating: train_data/rebimg/100_5748.JPG  \n",
            "  inflating: train_data/rebimg/100_5749.JPG  \n",
            "  inflating: train_data/rebimg/100_5750.JPG  \n",
            "  inflating: train_data/rebimg/100_5751.JPG  \n",
            "  inflating: train_data/rebimg/100_5752.JPG  \n",
            "  inflating: train_data/rebimg/100_5754.JPG  \n",
            "  inflating: train_data/rebimg/100_5755.JPG  \n",
            "   creating: train_data/wcrsrt/\n",
            "  inflating: train_data/wcrsrt/100_4452.JPG  \n",
            "  inflating: train_data/wcrsrt/100_4453.JPG  \n",
            "  inflating: train_data/wcrsrt/100_4454.JPG  \n",
            "  inflating: train_data/wcrsrt/100_4455.JPG  \n",
            "  inflating: train_data/wcrsrt/100_4456.JPG  \n",
            "  inflating: train_data/wcrsrt/100_4457.JPG  \n",
            "  inflating: train_data/wcrsrt/100_4458.JPG  \n",
            "  inflating: train_data/wcrsrt/100_4459.JPG  \n",
            "  inflating: train_data/wcrsrt/100_4460.JPG  \n",
            "  inflating: train_data/wcrsrt/100_4461.JPG  \n"
          ]
        }
      ],
      "source": [
        "!unzip '/content/drive/MyDrive/train_data.zip'"
      ]
    },
    {
      "cell_type": "code",
      "execution_count": 4,
      "metadata": {
        "id": "DKTpaAWBgYp_"
      },
      "outputs": [],
      "source": [
        "# Data Augmentation\n",
        "\n",
        "from tensorflow.keras.preprocessing.image import ImageDataGenerator"
      ]
    },
    {
      "cell_type": "code",
      "execution_count": 5,
      "metadata": {
        "id": "_vlV-kYdgYnN"
      },
      "outputs": [],
      "source": [
        "train_path = \"/content/train_data\"\n",
        "test_path = \"/content/test_data\""
      ]
    },
    {
      "cell_type": "code",
      "execution_count": 6,
      "metadata": {
        "id": "ca-maFhWjETA"
      },
      "outputs": [],
      "source": [
        "train_gen = ImageDataGenerator(rescale=1./255,\n",
        "                               shear_range=0.2,\n",
        "                               zoom_range=0.2,\n",
        "                               horizontal_flip=True)\n",
        "\n",
        "test_gen = ImageDataGenerator(rescale=1./255) "
      ]
    },
    {
      "cell_type": "code",
      "execution_count": 7,
      "metadata": {
        "colab": {
          "base_uri": "https://localhost:8080/"
        },
        "id": "Ue2j7NomgYfS",
        "outputId": "163bf888-86d4-42c3-dfad-e16f806effc5"
      },
      "outputs": [
        {
          "output_type": "stream",
          "name": "stdout",
          "text": [
            "Found 150 images belonging to 16 classes.\n",
            "Found 157 images belonging to 16 classes.\n"
          ]
        }
      ],
      "source": [
        "train = train_gen.flow_from_directory(train_path,\n",
        "                                      target_size=(224,224),\n",
        "                                      batch_size=22,\n",
        "                                      class_mode='categorical')\n",
        "\n",
        "test = test_gen.flow_from_directory(test_path,\n",
        "                                      target_size=(224,224),\n",
        "                                      batch_size=22,\n",
        "                                      class_mode='categorical')"
      ]
    },
    {
      "cell_type": "code",
      "execution_count": 8,
      "metadata": {
        "colab": {
          "base_uri": "https://localhost:8080/"
        },
        "id": "Tjt851qngYbp",
        "outputId": "a782efe9-5aed-400a-d71e-f47e51e06dd9"
      },
      "outputs": [
        {
          "output_type": "execute_result",
          "data": {
            "text/plain": [
              "{'blasti': 0,\n",
              " 'bonegl': 1,\n",
              " 'brhkyt': 2,\n",
              " 'cbrtsh': 3,\n",
              " 'cmnmyn': 4,\n",
              " 'gretit': 5,\n",
              " 'hilpig': 6,\n",
              " 'himbul': 7,\n",
              " 'himgri': 8,\n",
              " 'hsparo': 9,\n",
              " 'indvul': 10,\n",
              " 'jglowl': 11,\n",
              " 'lbicrw': 12,\n",
              " 'mgprob': 13,\n",
              " 'rebimg': 14,\n",
              " 'wcrsrt': 15}"
            ]
          },
          "metadata": {},
          "execution_count": 8
        }
      ],
      "source": [
        "train.class_indices"
      ]
    },
    {
      "cell_type": "code",
      "execution_count": 9,
      "metadata": {
        "id": "8NbqrgDDgYZb"
      },
      "outputs": [],
      "source": [
        "from tensorflow.keras.layers import Dense,Flatten,Input\n",
        "from tensorflow.keras.models import Model\n",
        "from tensorflow.keras.preprocessing import image\n",
        "from tensorflow.keras.preprocessing.image import ImageDataGenerator, load_img\n",
        "import numpy as np\n",
        "from keras.layers import Input, Dense, Flatten, Dropout\n",
        "from tensorflow.keras.layers import BatchNormalization, Dropout"
      ]
    },
    {
      "cell_type": "code",
      "execution_count": 10,
      "metadata": {
        "id": "tELyDaaVgYXM"
      },
      "outputs": [],
      "source": [
        "from tensorflow.keras.applications.vgg16 import VGG16, preprocess_input"
      ]
    },
    {
      "cell_type": "code",
      "execution_count": 11,
      "metadata": {
        "id": "95p17Z89gYUp",
        "colab": {
          "base_uri": "https://localhost:8080/"
        },
        "outputId": "e32abcfd-8e13-427b-87e6-e727fe38e0de"
      },
      "outputs": [
        {
          "output_type": "stream",
          "name": "stdout",
          "text": [
            "Downloading data from https://storage.googleapis.com/tensorflow/keras-applications/vgg16/vgg16_weights_tf_dim_ordering_tf_kernels_notop.h5\n",
            "58889256/58889256 [==============================] - 0s 0us/step\n"
          ]
        }
      ],
      "source": [
        "# Adding the preprocessing layer to the front of vgg\n",
        "\n",
        "vgg = VGG16(include_top=False,weights='imagenet',input_shape=(224,224,3))"
      ]
    },
    {
      "cell_type": "code",
      "execution_count": 12,
      "metadata": {
        "colab": {
          "base_uri": "https://localhost:8080/"
        },
        "id": "ho8I3SGugYSE",
        "outputId": "201e4d53-872a-46e2-f5a8-e3ecdf8080df"
      },
      "outputs": [
        {
          "output_type": "stream",
          "name": "stdout",
          "text": [
            "<keras.engine.input_layer.InputLayer object at 0x7f12297f01f0>\n",
            "<keras.layers.convolutional.conv2d.Conv2D object at 0x7f119f1f66e0>\n",
            "<keras.layers.convolutional.conv2d.Conv2D object at 0x7f119f1f5b40>\n",
            "<keras.layers.pooling.max_pooling2d.MaxPooling2D object at 0x7f119f1f7010>\n",
            "<keras.layers.convolutional.conv2d.Conv2D object at 0x7f119f1f7b50>\n",
            "<keras.layers.convolutional.conv2d.Conv2D object at 0x7f119c8309a0>\n",
            "<keras.layers.pooling.max_pooling2d.MaxPooling2D object at 0x7f119f1f7280>\n",
            "<keras.layers.convolutional.conv2d.Conv2D object at 0x7f119f1f7d00>\n",
            "<keras.layers.convolutional.conv2d.Conv2D object at 0x7f119c830100>\n",
            "<keras.layers.convolutional.conv2d.Conv2D object at 0x7f119c8332e0>\n",
            "<keras.layers.pooling.max_pooling2d.MaxPooling2D object at 0x7f119c8325c0>\n",
            "<keras.layers.convolutional.conv2d.Conv2D object at 0x7f119c8337c0>\n",
            "<keras.layers.convolutional.conv2d.Conv2D object at 0x7f119c8324a0>\n",
            "<keras.layers.convolutional.conv2d.Conv2D object at 0x7f119c18a170>\n",
            "<keras.layers.pooling.max_pooling2d.MaxPooling2D object at 0x7f119c18a950>\n",
            "<keras.layers.convolutional.conv2d.Conv2D object at 0x7f119c18b490>\n",
            "<keras.layers.convolutional.conv2d.Conv2D object at 0x7f119c18b700>\n",
            "<keras.layers.convolutional.conv2d.Conv2D object at 0x7f119c18a320>\n",
            "<keras.layers.pooling.max_pooling2d.MaxPooling2D object at 0x7f119c1992d0>\n"
          ]
        }
      ],
      "source": [
        "for layer in vgg.layers:\n",
        "  print(layer)"
      ]
    },
    {
      "cell_type": "code",
      "execution_count": 13,
      "metadata": {
        "id": "bQ5mGn9XgYPW"
      },
      "outputs": [],
      "source": [
        "# Train model with existing weights\n",
        "\n",
        "for layer in vgg.layers:\n",
        "  layer.trainable=False"
      ]
    },
    {
      "cell_type": "code",
      "execution_count": 14,
      "metadata": {
        "id": "7CaIFIEIgYMj"
      },
      "outputs": [],
      "source": [
        "x = Flatten()(vgg.output)"
      ]
    },
    {
      "cell_type": "code",
      "execution_count": 15,
      "metadata": {
        "id": "utH3Lb1NgYJ7"
      },
      "outputs": [],
      "source": [
        "# output layer\n",
        "prediction = Dense(16,activation='softmax')(x)"
      ]
    },
    {
      "cell_type": "code",
      "execution_count": 16,
      "metadata": {
        "id": "jAsFfNicgYHi"
      },
      "outputs": [],
      "source": [
        "# Create Vgg16 model\n",
        "\n",
        "model = Model(inputs=vgg.input,outputs=prediction)"
      ]
    },
    {
      "cell_type": "code",
      "execution_count": 17,
      "metadata": {
        "colab": {
          "base_uri": "https://localhost:8080/"
        },
        "id": "932wB6oMgYE8",
        "outputId": "1a357254-1ca7-4a9f-86d3-653ddc7f1a0e"
      },
      "outputs": [
        {
          "output_type": "stream",
          "name": "stdout",
          "text": [
            "Model: \"model\"\n",
            "_________________________________________________________________\n",
            " Layer (type)                Output Shape              Param #   \n",
            "=================================================================\n",
            " input_1 (InputLayer)        [(None, 224, 224, 3)]     0         \n",
            "                                                                 \n",
            " block1_conv1 (Conv2D)       (None, 224, 224, 64)      1792      \n",
            "                                                                 \n",
            " block1_conv2 (Conv2D)       (None, 224, 224, 64)      36928     \n",
            "                                                                 \n",
            " block1_pool (MaxPooling2D)  (None, 112, 112, 64)      0         \n",
            "                                                                 \n",
            " block2_conv1 (Conv2D)       (None, 112, 112, 128)     73856     \n",
            "                                                                 \n",
            " block2_conv2 (Conv2D)       (None, 112, 112, 128)     147584    \n",
            "                                                                 \n",
            " block2_pool (MaxPooling2D)  (None, 56, 56, 128)       0         \n",
            "                                                                 \n",
            " block3_conv1 (Conv2D)       (None, 56, 56, 256)       295168    \n",
            "                                                                 \n",
            " block3_conv2 (Conv2D)       (None, 56, 56, 256)       590080    \n",
            "                                                                 \n",
            " block3_conv3 (Conv2D)       (None, 56, 56, 256)       590080    \n",
            "                                                                 \n",
            " block3_pool (MaxPooling2D)  (None, 28, 28, 256)       0         \n",
            "                                                                 \n",
            " block4_conv1 (Conv2D)       (None, 28, 28, 512)       1180160   \n",
            "                                                                 \n",
            " block4_conv2 (Conv2D)       (None, 28, 28, 512)       2359808   \n",
            "                                                                 \n",
            " block4_conv3 (Conv2D)       (None, 28, 28, 512)       2359808   \n",
            "                                                                 \n",
            " block4_pool (MaxPooling2D)  (None, 14, 14, 512)       0         \n",
            "                                                                 \n",
            " block5_conv1 (Conv2D)       (None, 14, 14, 512)       2359808   \n",
            "                                                                 \n",
            " block5_conv2 (Conv2D)       (None, 14, 14, 512)       2359808   \n",
            "                                                                 \n",
            " block5_conv3 (Conv2D)       (None, 14, 14, 512)       2359808   \n",
            "                                                                 \n",
            " block5_pool (MaxPooling2D)  (None, 7, 7, 512)         0         \n",
            "                                                                 \n",
            " flatten (Flatten)           (None, 25088)             0         \n",
            "                                                                 \n",
            " dense (Dense)               (None, 16)                401424    \n",
            "                                                                 \n",
            "=================================================================\n",
            "Total params: 15,116,112\n",
            "Trainable params: 401,424\n",
            "Non-trainable params: 14,714,688\n",
            "_________________________________________________________________\n"
          ]
        }
      ],
      "source": [
        "model.summary()"
      ]
    },
    {
      "cell_type": "code",
      "execution_count": 18,
      "metadata": {
        "id": "FtdUeUKygYCe"
      },
      "outputs": [],
      "source": [
        "model.compile(loss='categorical_crossentropy',optimizer='adam',metrics=['accuracy'])"
      ]
    },
    {
      "cell_type": "code",
      "execution_count": 19,
      "metadata": {
        "colab": {
          "base_uri": "https://localhost:8080/"
        },
        "id": "YE_6yXUWDPAU",
        "outputId": "929a686c-9671-4cb4-9cd4-456e18f582c9"
      },
      "outputs": [
        {
          "output_type": "execute_result",
          "data": {
            "text/plain": [
              "(7, 8)"
            ]
          },
          "metadata": {},
          "execution_count": 19
        }
      ],
      "source": [
        "len(train),len(test)"
      ]
    },
    {
      "cell_type": "code",
      "execution_count": 20,
      "metadata": {
        "colab": {
          "base_uri": "https://localhost:8080/"
        },
        "id": "Kss6P1MqgYAC",
        "outputId": "eec88abb-6437-49f4-8747-f7ca5add410f"
      },
      "outputs": [
        {
          "output_type": "stream",
          "name": "stderr",
          "text": [
            "<ipython-input-20-240d737b1fe6>:1: UserWarning: `Model.fit_generator` is deprecated and will be removed in a future version. Please use `Model.fit`, which supports generators.\n",
            "  model.fit_generator(train,validation_data=test,epochs=10,steps_per_epoch=len(train),\n"
          ]
        },
        {
          "output_type": "stream",
          "name": "stdout",
          "text": [
            "Epoch 1/10\n",
            "7/7 [==============================] - 105s 14s/step - loss: 3.1300 - accuracy: 0.1867 - val_loss: 2.9165 - val_accuracy: 0.2675\n",
            "Epoch 2/10\n",
            "7/7 [==============================] - 88s 14s/step - loss: 1.3713 - accuracy: 0.6067 - val_loss: 2.5544 - val_accuracy: 0.2994\n",
            "Epoch 3/10\n",
            "7/7 [==============================] - 87s 14s/step - loss: 0.8488 - accuracy: 0.7533 - val_loss: 2.6097 - val_accuracy: 0.3885\n",
            "Epoch 4/10\n",
            "7/7 [==============================] - 86s 14s/step - loss: 0.4821 - accuracy: 0.8600 - val_loss: 2.9371 - val_accuracy: 0.2994\n",
            "Epoch 5/10\n",
            "7/7 [==============================] - 121s 19s/step - loss: 0.3144 - accuracy: 0.9000 - val_loss: 3.0235 - val_accuracy: 0.3885\n",
            "Epoch 6/10\n",
            "7/7 [==============================] - 89s 14s/step - loss: 0.2435 - accuracy: 0.9333 - val_loss: 3.0369 - val_accuracy: 0.3376\n",
            "Epoch 7/10\n",
            "7/7 [==============================] - 87s 13s/step - loss: 0.1802 - accuracy: 0.9467 - val_loss: 2.8329 - val_accuracy: 0.3885\n",
            "Epoch 8/10\n",
            "7/7 [==============================] - 86s 13s/step - loss: 0.1098 - accuracy: 0.9800 - val_loss: 2.9476 - val_accuracy: 0.3694\n",
            "Epoch 9/10\n",
            "7/7 [==============================] - 120s 19s/step - loss: 0.0787 - accuracy: 0.9867 - val_loss: 2.9759 - val_accuracy: 0.3694\n",
            "Epoch 10/10\n",
            "7/7 [==============================] - 120s 19s/step - loss: 0.0697 - accuracy: 0.9867 - val_loss: 3.0283 - val_accuracy: 0.4076\n"
          ]
        },
        {
          "output_type": "execute_result",
          "data": {
            "text/plain": [
              "<keras.callbacks.History at 0x7f119c09c4c0>"
            ]
          },
          "metadata": {},
          "execution_count": 20
        }
      ],
      "source": [
        "model.fit_generator(train,validation_data=test,epochs=10,steps_per_epoch=len(train),\n",
        "                    validation_steps=len(test))"
      ]
    },
    {
      "cell_type": "code",
      "execution_count": 21,
      "metadata": {
        "id": "ui4QQQpCgX7H",
        "colab": {
          "base_uri": "https://localhost:8080/"
        },
        "outputId": "3e4588b2-a3ec-4718-d268-5fffdea72c59"
      },
      "outputs": [
        {
          "output_type": "stream",
          "name": "stdout",
          "text": [
            "1/1 [==============================] - 1s 862ms/step\n",
            "4\n",
            "cmnmyn\n"
          ]
        }
      ],
      "source": [
        "img1 = image.load_img('/content/bird_samp.jpg',target_size=(224,224))\n",
        "img1 = image.img_to_array(img1)\n",
        "img1 = np.expand_dims(img1,axis=0)\n",
        "pred = np.argmax(model.predict(img1))\n",
        "print(pred)\n",
        "output = ['blasti', 'bonegl', 'brhkyt', 'cbrtsh', 'cmnmyn', 'gretit', 'hilpig', 'himbul', 'himgri', 'hsparo', 'indvul', 'jglowl', 'lbicrw', 'mgprob', 'rebimg', 'wcrsrt']\n",
        "print(output[pred])"
      ]
    },
    {
      "cell_type": "code",
      "execution_count": null,
      "metadata": {
        "id": "0Z7MtvNBgX4q"
      },
      "outputs": [],
      "source": []
    },
    {
      "cell_type": "code",
      "execution_count": null,
      "metadata": {
        "id": "1akCq9RcgX2Q"
      },
      "outputs": [],
      "source": []
    },
    {
      "cell_type": "code",
      "execution_count": null,
      "metadata": {
        "id": "U6J5f4iEgXzk"
      },
      "outputs": [],
      "source": []
    },
    {
      "cell_type": "code",
      "execution_count": null,
      "metadata": {
        "id": "D1yAwGLYgXxB"
      },
      "outputs": [],
      "source": []
    },
    {
      "cell_type": "code",
      "execution_count": null,
      "metadata": {
        "id": "-uhGsVujgXum"
      },
      "outputs": [],
      "source": []
    },
    {
      "cell_type": "code",
      "execution_count": null,
      "metadata": {
        "id": "AhCjPL1kgXtA"
      },
      "outputs": [],
      "source": []
    },
    {
      "cell_type": "code",
      "execution_count": null,
      "metadata": {
        "id": "q-NDMEo2gXrB"
      },
      "outputs": [],
      "source": []
    },
    {
      "cell_type": "code",
      "execution_count": null,
      "metadata": {
        "id": "VAGRQbdHgXo1"
      },
      "outputs": [],
      "source": []
    },
    {
      "cell_type": "code",
      "execution_count": null,
      "metadata": {
        "id": "oLBY2BwKgXm5"
      },
      "outputs": [],
      "source": []
    },
    {
      "cell_type": "code",
      "execution_count": null,
      "metadata": {
        "id": "KczplD0UfrTX"
      },
      "outputs": [],
      "source": []
    }
  ],
  "metadata": {
    "colab": {
      "provenance": [],
      "gpuType": "T4"
    },
    "kernelspec": {
      "display_name": "Python 3",
      "name": "python3"
    },
    "language_info": {
      "name": "python"
    },
    "accelerator": "GPU"
  },
  "nbformat": 4,
  "nbformat_minor": 0
}