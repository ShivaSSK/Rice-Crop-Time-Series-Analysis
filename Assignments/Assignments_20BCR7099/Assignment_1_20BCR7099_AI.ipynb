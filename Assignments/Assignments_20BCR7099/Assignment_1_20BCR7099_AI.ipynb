{
  "nbformat": 4,
  "nbformat_minor": 0,
  "metadata": {
    "colab": {
      "provenance": []
    },
    "kernelspec": {
      "name": "python3",
      "display_name": "Python 3"
    },
    "language_info": {
      "name": "python"
    }
  },
  "cells": [
    {
      "cell_type": "code",
      "execution_count": 1,
      "metadata": {
        "colab": {
          "base_uri": "https://localhost:8080/"
        },
        "id": "nEhZMPvbmnFR",
        "outputId": "20a89bab-6ff5-467e-bbae-4b358a240c48"
      },
      "outputs": [
        {
          "output_type": "stream",
          "name": "stdout",
          "text": [
            "   Feature 1  Feature 2  Feature 3  Feature 4\n",
            "0   0.681153   0.053036   0.349324   0.057470\n",
            "1   0.299978   0.436320   0.239743   0.101739\n",
            "2   0.007292   0.337024   0.554958   0.472456\n",
            "3   0.865136   0.544367   0.446827   0.363380\n"
          ]
        }
      ],
      "source": [
        "import numpy as np\n",
        "import pandas as pd\n",
        "\n",
        "data = np.random.rand(4, 4)\n",
        "\n",
        "df = pd.DataFrame(data, columns=['Feature 1', 'Feature 2', 'Feature 3', 'Feature 4'])\n",
        "\n",
        "print(df)"
      ]
    },
    {
      "cell_type": "code",
      "source": [
        "new_column_names = {\n",
        "    'Feature 1': 'Random value 1',\n",
        "    'Feature 2': 'Random value 2',\n",
        "    'Feature 3': 'Random value 3',\n",
        "    'Feature 4': 'Random value 4'\n",
        "}\n",
        "df = df.rename(columns=new_column_names)\n",
        "\n",
        "\n",
        "print(df)"
      ],
      "metadata": {
        "colab": {
          "base_uri": "https://localhost:8080/"
        },
        "id": "TpLzfRmP09ad",
        "outputId": "2abe94e1-14f6-4fc5-8a9c-682ca04a15f5"
      },
      "execution_count": 2,
      "outputs": [
        {
          "output_type": "stream",
          "name": "stdout",
          "text": [
            "   Random value 1  Random value 2  Random value 3  Random value 4\n",
            "0        0.681153        0.053036        0.349324        0.057470\n",
            "1        0.299978        0.436320        0.239743        0.101739\n",
            "2        0.007292        0.337024        0.554958        0.472456\n",
            "3        0.865136        0.544367        0.446827        0.363380\n"
          ]
        }
      ]
    },
    {
      "cell_type": "code",
      "source": [
        "statistics = df.describe()\n",
        "\n",
        "print(statistics)"
      ],
      "metadata": {
        "colab": {
          "base_uri": "https://localhost:8080/"
        },
        "id": "HvOo-OgJ1Qli",
        "outputId": "83644bd0-f5ba-42d5-cdcf-2873a6e3b8f6"
      },
      "execution_count": 3,
      "outputs": [
        {
          "output_type": "stream",
          "name": "stdout",
          "text": [
            "       Random value 1  Random value 2  Random value 3  Random value 4\n",
            "count        4.000000        4.000000        4.000000        4.000000\n",
            "mean         0.463390        0.342687        0.397713        0.248761\n",
            "std          0.384512        0.210849        0.134702        0.201151\n",
            "min          0.007292        0.053036        0.239743        0.057470\n",
            "25%          0.226806        0.266027        0.321929        0.090671\n",
            "50%          0.490565        0.386672        0.398076        0.232559\n",
            "75%          0.727149        0.463332        0.473860        0.390649\n",
            "max          0.865136        0.544367        0.554958        0.472456\n"
          ]
        }
      ]
    },
    {
      "cell_type": "code",
      "source": [
        "null_values = df.isnull()\n",
        "print(\"Null Values:\")\n",
        "print(null_values)\n",
        "\n",
        "data_types = df.dtypes\n",
        "print(\"\\nData Types:\")\n",
        "print(data_types)"
      ],
      "metadata": {
        "colab": {
          "base_uri": "https://localhost:8080/"
        },
        "id": "WiNU36fA1ebd",
        "outputId": "bc4562c5-0345-46e5-fcc0-51dc62ddebc6"
      },
      "execution_count": 4,
      "outputs": [
        {
          "output_type": "stream",
          "name": "stdout",
          "text": [
            "Null Values:\n",
            "   Random value 1  Random value 2  Random value 3  Random value 4\n",
            "0           False           False           False           False\n",
            "1           False           False           False           False\n",
            "2           False           False           False           False\n",
            "3           False           False           False           False\n",
            "\n",
            "Data Types:\n",
            "Random value 1    float64\n",
            "Random value 2    float64\n",
            "Random value 3    float64\n",
            "Random value 4    float64\n",
            "dtype: object\n"
          ]
        }
      ]
    },
    {
      "cell_type": "code",
      "source": [
        "loc = df.loc[:, ['Random value 2', 'Random value 3']]\n",
        "print(\"Using .loc method:\")\n",
        "print(loc)\n",
        "\n",
        "iloc = df.iloc[:, [1, 2]]\n",
        "print(\"\\nUsing .iloc method:\")\n",
        "print(iloc)"
      ],
      "metadata": {
        "colab": {
          "base_uri": "https://localhost:8080/"
        },
        "id": "dHh1vMkd2JpT",
        "outputId": "5d0c0a91-4903-4fc7-c948-5ec8955a9318"
      },
      "execution_count": 5,
      "outputs": [
        {
          "output_type": "stream",
          "name": "stdout",
          "text": [
            "Using .loc method:\n",
            "   Random value 2  Random value 3\n",
            "0        0.053036        0.349324\n",
            "1        0.436320        0.239743\n",
            "2        0.337024        0.554958\n",
            "3        0.544367        0.446827\n",
            "\n",
            "Using .iloc method:\n",
            "   Random value 2  Random value 3\n",
            "0        0.053036        0.349324\n",
            "1        0.436320        0.239743\n",
            "2        0.337024        0.554958\n",
            "3        0.544367        0.446827\n"
          ]
        }
      ]
    }
  ]
}