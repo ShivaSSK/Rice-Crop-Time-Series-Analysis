{
  "nbformat": 4,
  "nbformat_minor": 0,
  "metadata": {
    "colab": {
      "provenance": []
    },
    "kernelspec": {
      "name": "python3",
      "display_name": "Python 3"
    },
    "language_info": {
      "name": "python"
    }
  },
  "cells": [
    {
      "cell_type": "code",
      "source": [
        "import os\n",
        "import numpy as np\n",
        "import pandas as pd\n",
        "from keras.preprocessing.image import ImageDataGenerator\n",
        "from keras.models import Sequential\n",
        "from keras.layers import Conv2D, MaxPooling2D, Flatten, Dense, Dropout"
      ],
      "metadata": {
        "id": "6QYVtupk70TR"
      },
      "execution_count": 55,
      "outputs": []
    },
    {
      "cell_type": "code",
      "source": [
        "from google.colab import drive\n",
        "drive.mount('/content/drive')"
      ],
      "metadata": {
        "colab": {
          "base_uri": "https://localhost:8080/"
        },
        "id": "RF7epxaC8CGw",
        "outputId": "78ab1ccb-9976-4998-b1eb-0c9a37bc64c4"
      },
      "execution_count": 56,
      "outputs": [
        {
          "output_type": "stream",
          "name": "stdout",
          "text": [
            "Drive already mounted at /content/drive; to attempt to forcibly remount, call drive.mount(\"/content/drive\", force_remount=True).\n"
          ]
        }
      ]
    },
    {
      "cell_type": "code",
      "source": [
        "data_path = '/content/drive/MyDrive/birds/birds.zip'"
      ],
      "metadata": {
        "id": "iX7ov-JO8N64"
      },
      "execution_count": 57,
      "outputs": []
    },
    {
      "cell_type": "code",
      "source": [
        "img_width, img_height = 224, 224"
      ],
      "metadata": {
        "id": "Y-ORZa428UfE"
      },
      "execution_count": 58,
      "outputs": []
    },
    {
      "cell_type": "code",
      "source": [
        "num_classes = 20"
      ],
      "metadata": {
        "id": "nVwX-EXk8ZR_"
      },
      "execution_count": 59,
      "outputs": []
    },
    {
      "cell_type": "code",
      "source": [
        "batch_size = 32\n",
        "epochs = 10"
      ],
      "metadata": {
        "id": "eG5OsR7Z8cuQ"
      },
      "execution_count": 60,
      "outputs": []
    },
    {
      "cell_type": "code",
      "source": [
        "zip_path = '/content/drive/My Drive/birds/birds.zip'"
      ],
      "metadata": {
        "id": "RDBJpl6B8fpU"
      },
      "execution_count": 61,
      "outputs": []
    },
    {
      "cell_type": "code",
      "source": [
        "with zipfile.ZipFile(zip_path, 'r') as zip_ref:\n",
        "    zip_ref.extractall('/content/drive/My Drive/data')"
      ],
      "metadata": {
        "id": "O3txY_p58mmr"
      },
      "execution_count": 62,
      "outputs": []
    },
    {
      "cell_type": "code",
      "source": [
        "extracted_folder = '/content/drive/My Drive/data'"
      ],
      "metadata": {
        "id": "Fuvw2p-2-gwP"
      },
      "execution_count": 72,
      "outputs": []
    },
    {
      "cell_type": "code",
      "source": [
        "img_width, img_height = 224, 224"
      ],
      "metadata": {
        "id": "PspmTm1C-lOm"
      },
      "execution_count": 64,
      "outputs": []
    },
    {
      "cell_type": "code",
      "source": [
        "num_classes = 16\n",
        "\n",
        "# Set the batch size and number of epochs\n",
        "batch_size = 32\n",
        "epochs = 10\n",
        "\n",
        "classes = list(train_generator.class_indices.keys())\n",
        "\n",
        "# Load the dataset using the ImageDataGenerator\n",
        "datagen = ImageDataGenerator(rescale=1./255, validation_split=0.2)"
      ],
      "metadata": {
        "id": "l0agm7rG_dsC"
      },
      "execution_count": 65,
      "outputs": []
    },
    {
      "cell_type": "code",
      "source": [
        "train_generator = datagen.flow_from_directory(\n",
        "    os.path.join(extracted_folder, 'train_data/train_data'),\n",
        "    target_size=(img_width, img_height),\n",
        "    batch_size=batch_size,\n",
        "    class_mode='categorical',\n",
        "    subset='training',\n",
        "    shuffle=True,\n",
        "    seed=42,\n",
        ")"
      ],
      "metadata": {
        "colab": {
          "base_uri": "https://localhost:8080/"
        },
        "id": "OItfCfqJ_AdB",
        "outputId": "7bedfa16-01b4-4110-c11d-6c3801ea4cdd"
      },
      "execution_count": 75,
      "outputs": [
        {
          "output_type": "stream",
          "name": "stdout",
          "text": [
            "Found 124 images belonging to 16 classes.\n"
          ]
        }
      ]
    },
    {
      "cell_type": "code",
      "source": [
        "validation_generator = datagen.flow_from_directory(\n",
        "    os.path.join(extracted_folder, 'train_data/train_data'),\n",
        "    target_size=(img_width, img_height),\n",
        "    batch_size=batch_size,\n",
        "    class_mode='categorical',\n",
        "    subset='validation',\n",
        "    shuffle=False,\n",
        "    seed=42,\n",
        "\n",
        ")"
      ],
      "metadata": {
        "colab": {
          "base_uri": "https://localhost:8080/"
        },
        "id": "OnBxLpKL_onE",
        "outputId": "608f964a-949b-4579-eb69-97e686d8db69"
      },
      "execution_count": 81,
      "outputs": [
        {
          "output_type": "stream",
          "name": "stdout",
          "text": [
            "Found 26 images belonging to 16 classes.\n"
          ]
        }
      ]
    },
    {
      "cell_type": "code",
      "source": [
        "model = Sequential()\n",
        "\n",
        "model.add(Conv2D(32, (3, 3), activation='relu', input_shape=(img_width, img_height, 3)))\n",
        "model.add(MaxPooling2D(pool_size=(2, 2)))\n",
        "\n",
        "model.add(Conv2D(64, (3, 3), activation='relu'))\n",
        "model.add(MaxPooling2D(pool_size=(2, 2)))\n",
        "\n",
        "model.add(Conv2D(128, (3, 3), activation='relu'))\n",
        "model.add(MaxPooling2D(pool_size=(2, 2)))\n",
        "\n",
        "model.add(Conv2D(256, (3, 3), activation='relu'))\n",
        "model.add(MaxPooling2D(pool_size=(2, 2)))\n",
        "\n",
        "model.add(Flatten())\n",
        "model.add(Dense(256, activation='relu'))\n",
        "model.add(Dropout(0.5))\n",
        "model.add(Dense(num_classes, activation='softmax'))"
      ],
      "metadata": {
        "id": "hQ7S9TpQ_2Jh"
      },
      "execution_count": 82,
      "outputs": []
    },
    {
      "cell_type": "code",
      "source": [
        "model.compile(optimizer='adam', loss='categorical_crossentropy', metrics=['accuracy'])"
      ],
      "metadata": {
        "id": "ZUhrFdHj_6h2"
      },
      "execution_count": 88,
      "outputs": []
    },
    {
      "cell_type": "code",
      "source": [
        "import os\n",
        "import glob\n",
        "\n",
        "# Set the path to the directory containing your dataset\n",
        "dataset_dir = \"/content/drive/My Drive/data/train_data/train_data\"\n",
        "\n",
        "# Get the list of class directories in the dataset directory\n",
        "class_dirs = glob.glob(os.path.join(dataset_dir, \"*\"))\n",
        "\n",
        "# Count the number of classes\n",
        "num_classes = len(class_dirs)\n",
        "\n",
        "print(\"Number of classes:\", num_classes)"
      ],
      "metadata": {
        "colab": {
          "base_uri": "https://localhost:8080/"
        },
        "id": "H13_P4RD_-a6",
        "outputId": "ffcb5735-b07f-4d2e-cad2-c38fea1bdfc4"
      },
      "execution_count": 89,
      "outputs": [
        {
          "output_type": "stream",
          "name": "stdout",
          "text": [
            "Number of classes: 16\n"
          ]
        }
      ]
    },
    {
      "cell_type": "code",
      "source": [
        "model.fit(\n",
        "    train_generator,\n",
        "    steps_per_epoch=train_generator.samples // batch_size,\n",
        "    epochs=epochs,\n",
        "    validation_data=validation_generator,\n",
        "    validation_steps=validation_generator.samples // batch_size\n",
        ")"
      ],
      "metadata": {
        "colab": {
          "base_uri": "https://localhost:8080/"
        },
        "id": "wNpHzEiKCY5I",
        "outputId": "43bc918c-53be-4087-8293-8f72908ff520"
      },
      "execution_count": 90,
      "outputs": [
        {
          "output_type": "stream",
          "name": "stdout",
          "text": [
            "Epoch 1/10\n",
            "3/3 [==============================] - 53s 18s/step - loss: 3.1235 - accuracy: 0.0761\n",
            "Epoch 2/10\n",
            "3/3 [==============================] - 43s 14s/step - loss: 2.8016 - accuracy: 0.0870\n",
            "Epoch 3/10\n",
            "3/3 [==============================] - 40s 12s/step - loss: 2.7360 - accuracy: 0.0870\n",
            "Epoch 4/10\n",
            "3/3 [==============================] - 40s 12s/step - loss: 2.6091 - accuracy: 0.2283\n",
            "Epoch 5/10\n",
            "3/3 [==============================] - 39s 11s/step - loss: 2.5349 - accuracy: 0.1848\n",
            "Epoch 6/10\n",
            "3/3 [==============================] - 41s 13s/step - loss: 2.4433 - accuracy: 0.1957\n",
            "Epoch 7/10\n",
            "3/3 [==============================] - 42s 12s/step - loss: 2.4222 - accuracy: 0.2609\n",
            "Epoch 8/10\n",
            "3/3 [==============================] - 39s 13s/step - loss: 2.3282 - accuracy: 0.2717\n",
            "Epoch 9/10\n",
            "3/3 [==============================] - 40s 12s/step - loss: 2.3951 - accuracy: 0.2717\n",
            "Epoch 10/10\n",
            "3/3 [==============================] - 42s 14s/step - loss: 2.4157 - accuracy: 0.2609\n"
          ]
        },
        {
          "output_type": "execute_result",
          "data": {
            "text/plain": [
              "<keras.callbacks.History at 0x7fe68de01390>"
            ]
          },
          "metadata": {},
          "execution_count": 90
        }
      ]
    },
    {
      "cell_type": "code",
      "source": [
        "loss, accuracy = model.evaluate(validation_generator)\n",
        "print(\"Loss: {:.2f}\".format(loss))\n",
        "print(\"Accuracy: {:.2f}%\".format(accuracy * 100))\n"
      ],
      "metadata": {
        "colab": {
          "base_uri": "https://localhost:8080/"
        },
        "id": "uYOxyu-4FC2Y",
        "outputId": "b6fbec0e-e298-4ea0-d3e2-0b2a5fe9f2b4"
      },
      "execution_count": 91,
      "outputs": [
        {
          "output_type": "stream",
          "name": "stdout",
          "text": [
            "1/1 [==============================] - 11s 11s/step - loss: 2.4968 - accuracy: 0.3077\n",
            "Loss: 2.50\n",
            "Accuracy: 30.77%\n"
          ]
        }
      ]
    }
  ]
}