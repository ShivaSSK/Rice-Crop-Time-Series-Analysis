{
  "nbformat": 4,
  "nbformat_minor": 0,
  "metadata": {
    "colab": {
      "provenance": []
    },
    "kernelspec": {
      "name": "python3",
      "display_name": "Python 3"
    },
    "language_info": {
      "name": "python"
    }
  },
  "cells": [
    {
      "cell_type": "code",
      "execution_count": null,
      "metadata": {
        "colab": {
          "base_uri": "https://localhost:8080/"
        },
        "id": "nEhZMPvbmnFR",
        "outputId": "7ae3c988-2a6d-4722-e0dc-a96dae9fc3db"
      },
      "outputs": [
        {
          "output_type": "stream",
          "name": "stdout",
          "text": [
            "   Attribute 1  Attribute 2  Attribute 3  Attribute 4\n",
            "0     0.581115     0.211942     0.966323     0.043197\n",
            "1     0.816307     0.198297     0.196207     0.754884\n",
            "2     0.464149     0.444912     0.034043     0.950492\n",
            "3     0.205863     0.133829     0.108737     0.699383\n",
            "4     0.330611     0.366534     0.162269     0.007042\n",
            "5     0.929259     0.268675     0.018341     0.524986\n"
          ]
        }
      ],
      "source": [
        "import numpy as np\n",
        "import pandas as pd\n",
        "\n",
        "data = np.random.rand(6, 4)\n",
        "\n",
        "df = pd.DataFrame(data, columns=['Attribute 1', 'Attribute 2', 'Attribute 3', 'Attribute 4'])\n",
        "\n",
        "print(df)"
      ]
    },
    {
      "cell_type": "code",
      "source": [
        "new_column_names = {\n",
        "    'Attribute 1': 'Random value 1',\n",
        "    'Attribute 2': 'Random value 2',\n",
        "    'Attribute 3': 'Random value 3',\n",
        "    'Attribute 4': 'Random value 4'\n",
        "}\n",
        "df = df.rename(columns=new_column_names)\n",
        "\n",
        "\n",
        "print(df)"
      ],
      "metadata": {
        "colab": {
          "base_uri": "https://localhost:8080/"
        },
        "id": "TpLzfRmP09ad",
        "outputId": "86b6ceeb-2154-4134-a05a-bb11085bd66c"
      },
      "execution_count": null,
      "outputs": [
        {
          "output_type": "stream",
          "name": "stdout",
          "text": [
            "   Random value 1  Random value 2  Random value 3  Random value 4\n",
            "0        0.581115        0.211942        0.966323        0.043197\n",
            "1        0.816307        0.198297        0.196207        0.754884\n",
            "2        0.464149        0.444912        0.034043        0.950492\n",
            "3        0.205863        0.133829        0.108737        0.699383\n",
            "4        0.330611        0.366534        0.162269        0.007042\n",
            "5        0.929259        0.268675        0.018341        0.524986\n"
          ]
        }
      ]
    },
    {
      "cell_type": "code",
      "source": [
        "statistics = df.describe()\n",
        "\n",
        "print(statistics)"
      ],
      "metadata": {
        "colab": {
          "base_uri": "https://localhost:8080/"
        },
        "id": "HvOo-OgJ1Qli",
        "outputId": "8ce86371-d514-4b71-f195-9c4452133a45"
      },
      "execution_count": null,
      "outputs": [
        {
          "output_type": "stream",
          "name": "stdout",
          "text": [
            "       Random value 1  Random value 2  Random value 3  Random value 4\n",
            "count        6.000000        6.000000        6.000000        6.000000\n",
            "mean         0.554551        0.270698        0.247653        0.496664\n",
            "std          0.279118        0.115729        0.358869        0.389845\n",
            "min          0.205863        0.133829        0.018341        0.007042\n",
            "25%          0.363995        0.201708        0.052717        0.163644\n",
            "50%          0.522632        0.240309        0.135503        0.612184\n",
            "75%          0.757509        0.342069        0.187723        0.741008\n",
            "max          0.929259        0.444912        0.966323        0.950492\n"
          ]
        }
      ]
    },
    {
      "cell_type": "code",
      "source": [
        "null_values = df.isnull()\n",
        "print(\"Null Values:\")\n",
        "print(null_values)\n",
        "\n",
        "data_types = df.dtypes\n",
        "print(\"\\nData Types:\")\n",
        "print(data_types)"
      ],
      "metadata": {
        "colab": {
          "base_uri": "https://localhost:8080/"
        },
        "id": "WiNU36fA1ebd",
        "outputId": "48e039ef-8d14-4222-94d7-5c5695504d88"
      },
      "execution_count": null,
      "outputs": [
        {
          "output_type": "stream",
          "name": "stdout",
          "text": [
            "Null Values:\n",
            "   Random value 1  Random value 2  Random value 3  Random value 4\n",
            "0           False           False           False           False\n",
            "1           False           False           False           False\n",
            "2           False           False           False           False\n",
            "3           False           False           False           False\n",
            "4           False           False           False           False\n",
            "5           False           False           False           False\n",
            "\n",
            "Data Types:\n",
            "Random value 1    float64\n",
            "Random value 2    float64\n",
            "Random value 3    float64\n",
            "Random value 4    float64\n",
            "dtype: object\n"
          ]
        }
      ]
    },
    {
      "cell_type": "code",
      "source": [
        "loc = df.loc[:, ['Random value 2', 'Random value 3']]\n",
        "print(\"Using .loc method:\")\n",
        "print(loc)\n",
        "\n",
        "iloc = df.iloc[:, [1, 2]]\n",
        "print(\"\\nUsing .iloc method:\")\n",
        "print(iloc)"
      ],
      "metadata": {
        "colab": {
          "base_uri": "https://localhost:8080/"
        },
        "id": "dHh1vMkd2JpT",
        "outputId": "1809af82-51da-46c8-a1b0-0e94a263ce5a"
      },
      "execution_count": null,
      "outputs": [
        {
          "output_type": "stream",
          "name": "stdout",
          "text": [
            "Using .loc method:\n",
            "   Random value 2  Random value 3\n",
            "0        0.211942        0.966323\n",
            "1        0.198297        0.196207\n",
            "2        0.444912        0.034043\n",
            "3        0.133829        0.108737\n",
            "4        0.366534        0.162269\n",
            "5        0.268675        0.018341\n",
            "\n",
            "Using .iloc method:\n",
            "   Random value 2  Random value 3\n",
            "0        0.211942        0.966323\n",
            "1        0.198297        0.196207\n",
            "2        0.444912        0.034043\n",
            "3        0.133829        0.108737\n",
            "4        0.366534        0.162269\n",
            "5        0.268675        0.018341\n"
          ]
        }
      ]
    }
  ]
}