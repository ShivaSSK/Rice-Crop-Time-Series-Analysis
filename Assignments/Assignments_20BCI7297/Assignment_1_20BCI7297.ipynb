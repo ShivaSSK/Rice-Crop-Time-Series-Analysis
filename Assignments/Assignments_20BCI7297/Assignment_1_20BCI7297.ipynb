{
  "nbformat": 4,
  "nbformat_minor": 0,
  "metadata": {
    "colab": {
      "provenance": []
    },
    "kernelspec": {
      "name": "python3",
      "display_name": "Python 3"
    },
    "language_info": {
      "name": "python"
    }
  },
  "cells": [
    {
      "cell_type": "code",
      "execution_count": null,
      "metadata": {
        "colab": {
          "base_uri": "https://localhost:8080/"
        },
        "id": "nEhZMPvbmnFR",
        "outputId": "a64868a0-9f9c-47fe-874c-26612e6e57a5"
      },
      "outputs": [
        {
          "output_type": "stream",
          "name": "stdout",
          "text": [
            "   Feature 1  Feature 2  Feature 3  Feature 4\n",
            "0   0.537224   0.695293   0.032661   0.831766\n",
            "1   0.733038   0.824545   0.219366   0.804158\n",
            "2   0.526957   0.648222   0.600267   0.196428\n",
            "3   0.023864   0.777872   0.767980   0.407921\n"
          ]
        }
      ],
      "source": [
        "import numpy as np\n",
        "import pandas as pd\n",
        "\n",
        "data = np.random.rand(4, 4)\n",
        "\n",
        "df = pd.DataFrame(data, columns=['Feature 1', 'Feature 2', 'Feature 3', 'Feature 4'])\n",
        "\n",
        "print(df)"
      ]
    },
    {
      "cell_type": "code",
      "source": [
        "new_column_names = {\n",
        "    'Feature 1': 'Random value 1',\n",
        "    'Feature 2': 'Random value 2',\n",
        "    'Feature 3': 'Random value 3',\n",
        "    'Feature 4': 'Random value 4'\n",
        "}\n",
        "df = df.rename(columns=new_column_names)\n",
        "\n",
        "\n",
        "print(df)"
      ],
      "metadata": {
        "colab": {
          "base_uri": "https://localhost:8080/"
        },
        "id": "TpLzfRmP09ad",
        "outputId": "68c5d225-0658-4ff9-b94c-4f3331a1491c"
      },
      "execution_count": null,
      "outputs": [
        {
          "output_type": "stream",
          "name": "stdout",
          "text": [
            "   Random value 1  Random value 2  Random value 3  Random value 4\n",
            "0        0.537224        0.695293        0.032661        0.831766\n",
            "1        0.733038        0.824545        0.219366        0.804158\n",
            "2        0.526957        0.648222        0.600267        0.196428\n",
            "3        0.023864        0.777872        0.767980        0.407921\n"
          ]
        }
      ]
    },
    {
      "cell_type": "code",
      "source": [
        "statistics = df.describe()\n",
        "\n",
        "print(statistics)"
      ],
      "metadata": {
        "colab": {
          "base_uri": "https://localhost:8080/"
        },
        "id": "HvOo-OgJ1Qli",
        "outputId": "c13609c7-d30d-4114-89d4-78c1353ff0a0"
      },
      "execution_count": null,
      "outputs": [
        {
          "output_type": "stream",
          "name": "stdout",
          "text": [
            "       Random value 1  Random value 2  Random value 3  Random value 4\n",
            "count        4.000000        4.000000        4.000000        4.000000\n",
            "mean         0.455271        0.736483        0.405068        0.560068\n",
            "std          0.302832        0.079487        0.338122        0.310259\n",
            "min          0.023864        0.648222        0.032661        0.196428\n",
            "25%          0.401184        0.683525        0.172690        0.355048\n",
            "50%          0.532091        0.736582        0.409816        0.606040\n",
            "75%          0.586178        0.789540        0.642195        0.811060\n",
            "max          0.733038        0.824545        0.767980        0.831766\n"
          ]
        }
      ]
    },
    {
      "cell_type": "code",
      "source": [
        "null_values = df.isnull()\n",
        "print(\"Null Values:\")\n",
        "print(null_values)\n",
        "\n",
        "data_types = df.dtypes\n",
        "print(\"\\nData Types:\")\n",
        "print(data_types)"
      ],
      "metadata": {
        "colab": {
          "base_uri": "https://localhost:8080/"
        },
        "id": "WiNU36fA1ebd",
        "outputId": "0f3e25b2-c056-4371-fb8b-52de70a1aa17"
      },
      "execution_count": null,
      "outputs": [
        {
          "output_type": "stream",
          "name": "stdout",
          "text": [
            "Null Values:\n",
            "   Random value 1  Random value 2  Random value 3  Random value 4\n",
            "0           False           False           False           False\n",
            "1           False           False           False           False\n",
            "2           False           False           False           False\n",
            "3           False           False           False           False\n",
            "\n",
            "Data Types:\n",
            "Random value 1    float64\n",
            "Random value 2    float64\n",
            "Random value 3    float64\n",
            "Random value 4    float64\n",
            "dtype: object\n"
          ]
        }
      ]
    },
    {
      "cell_type": "code",
      "source": [
        "loc = df.loc[:, ['Random value 2', 'Random value 3']]\n",
        "print(\"Using .loc method:\")\n",
        "print(loc)\n",
        "\n",
        "iloc = df.iloc[:, [1, 2]]\n",
        "print(\"\\nUsing .iloc method:\")\n",
        "print(iloc)"
      ],
      "metadata": {
        "colab": {
          "base_uri": "https://localhost:8080/"
        },
        "id": "dHh1vMkd2JpT",
        "outputId": "400a1aa8-3d99-4bf6-ad0f-2ce96751a8fa"
      },
      "execution_count": null,
      "outputs": [
        {
          "output_type": "stream",
          "name": "stdout",
          "text": [
            "Using .loc method:\n",
            "   Random value 2  Random value 3\n",
            "0        0.695293        0.032661\n",
            "1        0.824545        0.219366\n",
            "2        0.648222        0.600267\n",
            "3        0.777872        0.767980\n",
            "\n",
            "Using .iloc method:\n",
            "   Random value 2  Random value 3\n",
            "0        0.695293        0.032661\n",
            "1        0.824545        0.219366\n",
            "2        0.648222        0.600267\n",
            "3        0.777872        0.767980\n"
          ]
        }
      ]
    }
  ]
}