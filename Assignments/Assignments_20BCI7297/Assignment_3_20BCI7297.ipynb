{
  "nbformat": 4,
  "nbformat_minor": 0,
  "metadata": {
    "colab": {
      "provenance": []
    },
    "kernelspec": {
      "name": "python3",
      "display_name": "Python 3"
    },
    "language_info": {
      "name": "python"
    }
  },
  "cells": [
    {
      "cell_type": "code",
      "source": [
        "import os\n",
        "import numpy as np\n",
        "import pandas as pd\n",
        "from keras.preprocessing.image import ImageDataGenerator\n",
        "from keras.models import Sequential\n",
        "from keras.layers import Conv2D, MaxPooling2D, Flatten, Dense, Dropout"
      ],
      "metadata": {
        "id": "mFQfBLgw5m6m"
      },
      "execution_count": 17,
      "outputs": []
    },
    {
      "cell_type": "code",
      "source": [
        "from google.colab import drive\n",
        "drive.mount('/content/drive')"
      ],
      "metadata": {
        "colab": {
          "base_uri": "https://localhost:8080/"
        },
        "id": "dFJZhBEwqiat",
        "outputId": "8a7070fd-ddfc-4850-ff60-88e099b51deb"
      },
      "execution_count": 23,
      "outputs": [
        {
          "output_type": "stream",
          "name": "stdout",
          "text": [
            "Mounted at /content/drive\n"
          ]
        }
      ]
    },
    {
      "cell_type": "code",
      "source": [
        "data_path = '/content/drive/My Drive/Birds/archive.zip'"
      ],
      "metadata": {
        "id": "OqkIbXmbqd8O"
      },
      "execution_count": 24,
      "outputs": []
    },
    {
      "cell_type": "code",
      "source": [
        "img_width, img_height = 224, 224"
      ],
      "metadata": {
        "id": "OqaHuScKq1zf"
      },
      "execution_count": 25,
      "outputs": []
    },
    {
      "cell_type": "code",
      "source": [
        "!unzip '/content/archive.zip'"
      ],
      "metadata": {
        "colab": {
          "base_uri": "https://localhost:8080/"
        },
        "id": "njVVatb-rzWd",
        "outputId": "82af525b-0f41-41e2-984f-f12a832ad6fc"
      },
      "execution_count": 16,
      "outputs": [
        {
          "output_type": "stream",
          "name": "stdout",
          "text": [
            "Archive:  /content/archive.zip\n",
            "  End-of-central-directory signature not found.  Either this file is not\n",
            "  a zipfile, or it constitutes one disk of a multi-part archive.  In the\n",
            "  latter case the central directory and zipfile comment will be found on\n",
            "  the last disk(s) of this archive.\n",
            "unzip:  cannot find zipfile directory in one of /content/archive.zip or\n",
            "        /content/archive.zip.zip, and cannot find /content/archive.zip.ZIP, period.\n"
          ]
        }
      ]
    },
    {
      "cell_type": "code",
      "source": [
        "num_classes = 20"
      ],
      "metadata": {
        "id": "0PKUGJ5jq466"
      },
      "execution_count": 26,
      "outputs": []
    },
    {
      "cell_type": "code",
      "source": [
        "batch_size = 32\n",
        "epochs = 10"
      ],
      "metadata": {
        "id": "7h4oS61Gq7Fv"
      },
      "execution_count": 27,
      "outputs": []
    },
    {
      "cell_type": "code",
      "source": [
        "zip_path = '/content/drive/My Drive/Birds/archive.zip'"
      ],
      "metadata": {
        "id": "vQ965rhbq9FU"
      },
      "execution_count": 29,
      "outputs": []
    },
    {
      "cell_type": "code",
      "source": [
        "with zipfile.ZipFile(zip_path, 'r') as zip_ref:\n",
        "    zip_ref.extractall('/content/drive/My Drive/data')"
      ],
      "metadata": {
        "id": "K0KzNXqaveji"
      },
      "execution_count": 30,
      "outputs": []
    },
    {
      "cell_type": "code",
      "source": [
        "extracted_folder = '/content/drive/My Drive/data'"
      ],
      "metadata": {
        "id": "ovLtLBunwUas"
      },
      "execution_count": 60,
      "outputs": []
    },
    {
      "cell_type": "code",
      "source": [
        "img_width, img_height = 224, 224"
      ],
      "metadata": {
        "id": "D2vfaMBfwh7M"
      },
      "execution_count": 42,
      "outputs": []
    },
    {
      "cell_type": "code",
      "source": [
        "# Set the number of classes (bird species)\n",
        "num_classes = 16\n",
        "\n",
        "# Set the batch size and number of epochs\n",
        "batch_size = 32\n",
        "epochs = 10\n",
        "\n",
        "classes = list(train_generator.class_indices.keys())\n",
        "\n",
        "# Load the dataset using the ImageDataGenerator\n",
        "datagen = ImageDataGenerator(rescale=1./255, validation_split=0.2)"
      ],
      "metadata": {
        "id": "ul7urdSRwj-m"
      },
      "execution_count": 63,
      "outputs": []
    },
    {
      "cell_type": "code",
      "source": [
        "train_generator = datagen.flow_from_directory(\n",
        "    os.path.join(extracted_folder, 'train_data/train_data'),\n",
        "    target_size=(img_width, img_height),\n",
        "    batch_size=batch_size,\n",
        "    class_mode='categorical',\n",
        "    subset='training',\n",
        "    shuffle=True,\n",
        "    seed=42,\n",
        "    classes=classes\n",
        ")"
      ],
      "metadata": {
        "colab": {
          "base_uri": "https://localhost:8080/"
        },
        "id": "l0B8nl5jwl8F",
        "outputId": "6a14fe4c-576e-4a56-d05d-f4d96051aabc"
      },
      "execution_count": 64,
      "outputs": [
        {
          "output_type": "stream",
          "name": "stdout",
          "text": [
            "Found 124 images belonging to 16 classes.\n"
          ]
        }
      ]
    },
    {
      "cell_type": "code",
      "source": [
        "validation_generator = datagen.flow_from_directory(\n",
        "    os.path.join(extracted_folder, 'train_data/train_data'),\n",
        "    target_size=(img_width, img_height),\n",
        "    batch_size=batch_size,\n",
        "    class_mode='categorical',\n",
        "    subset='validation',\n",
        "    shuffle=False,\n",
        "    seed=42,\n",
        "    classes=classes\n",
        ")"
      ],
      "metadata": {
        "colab": {
          "base_uri": "https://localhost:8080/"
        },
        "id": "JFBlrayMwujx",
        "outputId": "739d5ef1-57be-4de1-e65d-03690497f97b"
      },
      "execution_count": 65,
      "outputs": [
        {
          "output_type": "stream",
          "name": "stdout",
          "text": [
            "Found 26 images belonging to 16 classes.\n"
          ]
        }
      ]
    },
    {
      "cell_type": "code",
      "source": [
        "model = Sequential()\n",
        "\n",
        "model.add(Conv2D(32, (3, 3), activation='relu', input_shape=(img_width, img_height, 3)))\n",
        "model.add(MaxPooling2D(pool_size=(2, 2)))\n",
        "\n",
        "model.add(Conv2D(64, (3, 3), activation='relu'))\n",
        "model.add(MaxPooling2D(pool_size=(2, 2)))\n",
        "\n",
        "model.add(Conv2D(128, (3, 3), activation='relu'))\n",
        "model.add(MaxPooling2D(pool_size=(2, 2)))\n",
        "\n",
        "model.add(Conv2D(256, (3, 3), activation='relu'))\n",
        "model.add(MaxPooling2D(pool_size=(2, 2)))\n",
        "\n",
        "model.add(Flatten())\n",
        "model.add(Dense(256, activation='relu'))\n",
        "model.add(Dropout(0.5))\n",
        "model.add(Dense(num_classes, activation='softmax'))"
      ],
      "metadata": {
        "id": "Hy_UOHSEw28q"
      },
      "execution_count": 66,
      "outputs": []
    },
    {
      "cell_type": "code",
      "source": [
        "model.compile(optimizer='adam', loss='categorical_crossentropy', metrics=['accuracy'])"
      ],
      "metadata": {
        "id": "arX1W5HOw5iN"
      },
      "execution_count": 67,
      "outputs": []
    },
    {
      "cell_type": "code",
      "source": [
        "import os\n",
        "import glob\n",
        "\n",
        "# Set the path to the directory containing your dataset\n",
        "dataset_dir = \"/content/drive/My Drive/data/train_data/train_data\"\n",
        "\n",
        "# Get the list of class directories in the dataset directory\n",
        "class_dirs = glob.glob(os.path.join(dataset_dir, \"*\"))\n",
        "\n",
        "# Count the number of classes\n",
        "num_classes = len(class_dirs)\n",
        "\n",
        "print(\"Number of classes:\", num_classes)"
      ],
      "metadata": {
        "colab": {
          "base_uri": "https://localhost:8080/"
        },
        "id": "FBAzD0AC0Ils",
        "outputId": "af506323-b08b-4afa-eec5-4824d6775479"
      },
      "execution_count": 62,
      "outputs": [
        {
          "output_type": "stream",
          "name": "stdout",
          "text": [
            "Number of classes: 16\n"
          ]
        }
      ]
    },
    {
      "cell_type": "code",
      "source": [
        "model.fit(\n",
        "    train_generator,\n",
        "    steps_per_epoch=train_generator.samples // batch_size,\n",
        "    epochs=epochs,\n",
        "    validation_data=validation_generator,\n",
        "    validation_steps=validation_generator.samples // batch_size\n",
        ")"
      ],
      "metadata": {
        "colab": {
          "base_uri": "https://localhost:8080/"
        },
        "id": "K-fz6o7Qw78h",
        "outputId": "3dff40c3-2e04-4941-b358-cfab560e037a"
      },
      "execution_count": 68,
      "outputs": [
        {
          "output_type": "stream",
          "name": "stdout",
          "text": [
            "Epoch 1/10\n",
            "3/3 [==============================] - 57s 18s/step - loss: 2.9241 - accuracy: 0.0833\n",
            "Epoch 2/10\n",
            "3/3 [==============================] - 40s 12s/step - loss: 2.7063 - accuracy: 0.1522\n",
            "Epoch 3/10\n",
            "3/3 [==============================] - 40s 13s/step - loss: 2.5554 - accuracy: 0.1848\n",
            "Epoch 4/10\n",
            "3/3 [==============================] - 42s 13s/step - loss: 2.4925 - accuracy: 0.1630\n",
            "Epoch 5/10\n",
            "3/3 [==============================] - 42s 14s/step - loss: 2.4404 - accuracy: 0.1875\n",
            "Epoch 6/10\n",
            "3/3 [==============================] - 43s 14s/step - loss: 2.4148 - accuracy: 0.1979\n",
            "Epoch 7/10\n",
            "3/3 [==============================] - 50s 17s/step - loss: 2.4201 - accuracy: 0.1957\n",
            "Epoch 8/10\n",
            "3/3 [==============================] - 41s 12s/step - loss: 2.3749 - accuracy: 0.2174\n",
            "Epoch 9/10\n",
            "3/3 [==============================] - 40s 11s/step - loss: 2.1605 - accuracy: 0.3478\n",
            "Epoch 10/10\n",
            "3/3 [==============================] - 41s 13s/step - loss: 2.2180 - accuracy: 0.2500\n"
          ]
        },
        {
          "output_type": "execute_result",
          "data": {
            "text/plain": [
              "<keras.callbacks.History at 0x7fa1bf228520>"
            ]
          },
          "metadata": {},
          "execution_count": 68
        }
      ]
    }
  ]
}